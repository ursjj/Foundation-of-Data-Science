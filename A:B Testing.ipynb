{
 "cells": [
  {
   "cell_type": "code",
   "execution_count": 1,
   "id": "initial_id",
   "metadata": {
    "collapsed": true,
    "ExecuteTime": {
     "end_time": "2023-10-28T04:13:07.635494Z",
     "start_time": "2023-10-28T04:13:07.157627Z"
    }
   },
   "outputs": [],
   "source": [
    "import  matplotlib\n",
    "import matplotlib.pyplot as plt\n",
    "%matplotlib inline\n",
    "import numpy as np\n",
    "import pandas as pd"
   ]
  },
  {
   "cell_type": "code",
   "execution_count": 2,
   "outputs": [],
   "source": [
    "baby = pd.read_csv('baby.csv')"
   ],
   "metadata": {
    "collapsed": false,
    "ExecuteTime": {
     "end_time": "2023-10-28T04:13:07.643907Z",
     "start_time": "2023-10-28T04:13:07.635885Z"
    }
   },
   "id": "d717a99399c27c34"
  },
  {
   "cell_type": "code",
   "execution_count": 3,
   "outputs": [
    {
     "data": {
      "text/plain": "   Unnamed: 0  Birth Weight  Gestational Days  Maternal Age  Maternal Height  \\\n0           0           120               284            27               62   \n1           1           113               282            33               64   \n2           2           128               279            28               64   \n3           3           108               282            23               67   \n4           4           136               286            25               62   \n\n   Maternal Pregnancy Weight  Maternal Smoker  \n0                        100            False  \n1                        135            False  \n2                        115             True  \n3                        125             True  \n4                         93            False  ",
      "text/html": "<div>\n<style scoped>\n    .dataframe tbody tr th:only-of-type {\n        vertical-align: middle;\n    }\n\n    .dataframe tbody tr th {\n        vertical-align: top;\n    }\n\n    .dataframe thead th {\n        text-align: right;\n    }\n</style>\n<table border=\"1\" class=\"dataframe\">\n  <thead>\n    <tr style=\"text-align: right;\">\n      <th></th>\n      <th>Unnamed: 0</th>\n      <th>Birth Weight</th>\n      <th>Gestational Days</th>\n      <th>Maternal Age</th>\n      <th>Maternal Height</th>\n      <th>Maternal Pregnancy Weight</th>\n      <th>Maternal Smoker</th>\n    </tr>\n  </thead>\n  <tbody>\n    <tr>\n      <th>0</th>\n      <td>0</td>\n      <td>120</td>\n      <td>284</td>\n      <td>27</td>\n      <td>62</td>\n      <td>100</td>\n      <td>False</td>\n    </tr>\n    <tr>\n      <th>1</th>\n      <td>1</td>\n      <td>113</td>\n      <td>282</td>\n      <td>33</td>\n      <td>64</td>\n      <td>135</td>\n      <td>False</td>\n    </tr>\n    <tr>\n      <th>2</th>\n      <td>2</td>\n      <td>128</td>\n      <td>279</td>\n      <td>28</td>\n      <td>64</td>\n      <td>115</td>\n      <td>True</td>\n    </tr>\n    <tr>\n      <th>3</th>\n      <td>3</td>\n      <td>108</td>\n      <td>282</td>\n      <td>23</td>\n      <td>67</td>\n      <td>125</td>\n      <td>True</td>\n    </tr>\n    <tr>\n      <th>4</th>\n      <td>4</td>\n      <td>136</td>\n      <td>286</td>\n      <td>25</td>\n      <td>62</td>\n      <td>93</td>\n      <td>False</td>\n    </tr>\n  </tbody>\n</table>\n</div>"
     },
     "execution_count": 3,
     "metadata": {},
     "output_type": "execute_result"
    }
   ],
   "source": [
    "baby.head()"
   ],
   "metadata": {
    "collapsed": false,
    "ExecuteTime": {
     "end_time": "2023-10-28T04:13:21.576660Z",
     "start_time": "2023-10-28T04:13:21.558487Z"
    }
   },
   "id": "a6dc54bc9ccc53e"
  },
  {
   "cell_type": "code",
   "execution_count": 6,
   "outputs": [],
   "source": [
    "baby.drop('Unnamed: 0',axis = 'columns', inplace= True)"
   ],
   "metadata": {
    "collapsed": false,
    "ExecuteTime": {
     "end_time": "2023-10-28T04:14:13.883516Z",
     "start_time": "2023-10-28T04:14:13.873492Z"
    }
   },
   "id": "4f933930f6d72704"
  },
  {
   "cell_type": "code",
   "execution_count": 7,
   "outputs": [
    {
     "data": {
      "text/plain": "   Birth Weight  Gestational Days  Maternal Age  Maternal Height  \\\n0           120               284            27               62   \n1           113               282            33               64   \n2           128               279            28               64   \n3           108               282            23               67   \n4           136               286            25               62   \n\n   Maternal Pregnancy Weight  Maternal Smoker  \n0                        100            False  \n1                        135            False  \n2                        115             True  \n3                        125             True  \n4                         93            False  ",
      "text/html": "<div>\n<style scoped>\n    .dataframe tbody tr th:only-of-type {\n        vertical-align: middle;\n    }\n\n    .dataframe tbody tr th {\n        vertical-align: top;\n    }\n\n    .dataframe thead th {\n        text-align: right;\n    }\n</style>\n<table border=\"1\" class=\"dataframe\">\n  <thead>\n    <tr style=\"text-align: right;\">\n      <th></th>\n      <th>Birth Weight</th>\n      <th>Gestational Days</th>\n      <th>Maternal Age</th>\n      <th>Maternal Height</th>\n      <th>Maternal Pregnancy Weight</th>\n      <th>Maternal Smoker</th>\n    </tr>\n  </thead>\n  <tbody>\n    <tr>\n      <th>0</th>\n      <td>120</td>\n      <td>284</td>\n      <td>27</td>\n      <td>62</td>\n      <td>100</td>\n      <td>False</td>\n    </tr>\n    <tr>\n      <th>1</th>\n      <td>113</td>\n      <td>282</td>\n      <td>33</td>\n      <td>64</td>\n      <td>135</td>\n      <td>False</td>\n    </tr>\n    <tr>\n      <th>2</th>\n      <td>128</td>\n      <td>279</td>\n      <td>28</td>\n      <td>64</td>\n      <td>115</td>\n      <td>True</td>\n    </tr>\n    <tr>\n      <th>3</th>\n      <td>108</td>\n      <td>282</td>\n      <td>23</td>\n      <td>67</td>\n      <td>125</td>\n      <td>True</td>\n    </tr>\n    <tr>\n      <th>4</th>\n      <td>136</td>\n      <td>286</td>\n      <td>25</td>\n      <td>62</td>\n      <td>93</td>\n      <td>False</td>\n    </tr>\n  </tbody>\n</table>\n</div>"
     },
     "execution_count": 7,
     "metadata": {},
     "output_type": "execute_result"
    }
   ],
   "source": [
    "baby.head()"
   ],
   "metadata": {
    "collapsed": false,
    "ExecuteTime": {
     "end_time": "2023-10-29T04:50:58.308776Z",
     "start_time": "2023-10-29T04:50:58.283488Z"
    }
   },
   "id": "720fd92bfcf38000"
  },
  {
   "cell_type": "code",
   "execution_count": 8,
   "outputs": [
    {
     "data": {
      "text/plain": "      Maternal Smoker  Birth Weight\n0               False           120\n1               False           113\n2                True           128\n3                True           108\n4               False           136\n...               ...           ...\n1169            False           113\n1170            False           128\n1171             True           130\n1172            False           125\n1173            False           117\n\n[1174 rows x 2 columns]",
      "text/html": "<div>\n<style scoped>\n    .dataframe tbody tr th:only-of-type {\n        vertical-align: middle;\n    }\n\n    .dataframe tbody tr th {\n        vertical-align: top;\n    }\n\n    .dataframe thead th {\n        text-align: right;\n    }\n</style>\n<table border=\"1\" class=\"dataframe\">\n  <thead>\n    <tr style=\"text-align: right;\">\n      <th></th>\n      <th>Maternal Smoker</th>\n      <th>Birth Weight</th>\n    </tr>\n  </thead>\n  <tbody>\n    <tr>\n      <th>0</th>\n      <td>False</td>\n      <td>120</td>\n    </tr>\n    <tr>\n      <th>1</th>\n      <td>False</td>\n      <td>113</td>\n    </tr>\n    <tr>\n      <th>2</th>\n      <td>True</td>\n      <td>128</td>\n    </tr>\n    <tr>\n      <th>3</th>\n      <td>True</td>\n      <td>108</td>\n    </tr>\n    <tr>\n      <th>4</th>\n      <td>False</td>\n      <td>136</td>\n    </tr>\n    <tr>\n      <th>...</th>\n      <td>...</td>\n      <td>...</td>\n    </tr>\n    <tr>\n      <th>1169</th>\n      <td>False</td>\n      <td>113</td>\n    </tr>\n    <tr>\n      <th>1170</th>\n      <td>False</td>\n      <td>128</td>\n    </tr>\n    <tr>\n      <th>1171</th>\n      <td>True</td>\n      <td>130</td>\n    </tr>\n    <tr>\n      <th>1172</th>\n      <td>False</td>\n      <td>125</td>\n    </tr>\n    <tr>\n      <th>1173</th>\n      <td>False</td>\n      <td>117</td>\n    </tr>\n  </tbody>\n</table>\n<p>1174 rows × 2 columns</p>\n</div>"
     },
     "execution_count": 8,
     "metadata": {},
     "output_type": "execute_result"
    }
   ],
   "source": [
    "smoking_and_birthweight = baby[['Maternal Smoker', 'Birth Weight']]\n",
    "smoking_and_birthweight"
   ],
   "metadata": {
    "collapsed": false,
    "ExecuteTime": {
     "end_time": "2023-10-29T04:51:04.651644Z",
     "start_time": "2023-10-29T04:51:04.640158Z"
    }
   },
   "id": "20a9cf9ee6ddfc3"
  },
  {
   "cell_type": "code",
   "execution_count": 9,
   "outputs": [
    {
     "data": {
      "text/plain": "0       False\n1       False\n2        True\n3        True\n4       False\n        ...  \n1169    False\n1170    False\n1171     True\n1172    False\n1173    False\nName: Maternal Smoker, Length: 1174, dtype: bool"
     },
     "execution_count": 9,
     "metadata": {},
     "output_type": "execute_result"
    }
   ],
   "source": [
    "smoking_and_birthweight['Maternal Smoker'] == True"
   ],
   "metadata": {
    "collapsed": false,
    "ExecuteTime": {
     "end_time": "2023-10-29T04:51:10.613689Z",
     "start_time": "2023-10-29T04:51:10.609446Z"
    }
   },
   "id": "76fcae268654a7cc"
  },
  {
   "cell_type": "code",
   "execution_count": 10,
   "outputs": [
    {
     "data": {
      "text/plain": "2       128\n3       108\n8       143\n10      144\n11      141\n       ... \n1162    143\n1163    113\n1164    109\n1165    103\n1171    130\nName: Birth Weight, Length: 459, dtype: int64"
     },
     "execution_count": 10,
     "metadata": {},
     "output_type": "execute_result"
    }
   ],
   "source": [
    "smoker = smoking_and_birthweight['Birth Weight'] [smoking_and_birthweight['Maternal Smoker'] == True]\n",
    "smoker"
   ],
   "metadata": {
    "collapsed": false,
    "ExecuteTime": {
     "end_time": "2023-10-29T04:51:17.032619Z",
     "start_time": "2023-10-29T04:51:17.019511Z"
    }
   },
   "id": "2a3d13401f31f139"
  },
  {
   "cell_type": "code",
   "execution_count": 11,
   "outputs": [
    {
     "data": {
      "text/plain": "0       120\n1       113\n4       136\n5       138\n6       132\n       ... \n1168    132\n1169    113\n1170    128\n1172    125\n1173    117\nName: Birth Weight, Length: 715, dtype: int64"
     },
     "execution_count": 11,
     "metadata": {},
     "output_type": "execute_result"
    }
   ],
   "source": [
    "non_smoker = smoking_and_birthweight['Birth Weight'] [smoking_and_birthweight['Maternal Smoker'] == False]\n",
    "non_smoker"
   ],
   "metadata": {
    "collapsed": false,
    "ExecuteTime": {
     "end_time": "2023-10-29T04:51:24.472542Z",
     "start_time": "2023-10-29T04:51:24.454458Z"
    }
   },
   "id": "9e156abe506ae920"
  },
  {
   "cell_type": "code",
   "execution_count": 12,
   "outputs": [],
   "source": [
    "import matplotlib.pyplot as plt\n",
    "%matplotlib inline"
   ],
   "metadata": {
    "collapsed": false,
    "ExecuteTime": {
     "end_time": "2023-10-29T04:51:29.523383Z",
     "start_time": "2023-10-29T04:51:29.521759Z"
    }
   },
   "id": "be13973e36969fe"
  },
  {
   "cell_type": "code",
   "execution_count": 14,
   "outputs": [
    {
     "data": {
      "text/plain": "<Figure size 640x480 with 2 Axes>",
      "image/png": "[encoded data removed]"
     },
     "metadata": {},
     "output_type": "display_data"
    }
   ],
   "source": [
    "smoking_and_birthweight.hist(by ='Maternal Smoker')\n",
    "plt.show()"
   ],
   "metadata": {
    "collapsed": false,
    "ExecuteTime": {
     "end_time": "2023-10-29T04:51:41.417655Z",
     "start_time": "2023-10-29T04:51:41.314950Z"
    }
   },
   "id": "6dbc3294755bd402"
  },
  {
   "cell_type": "code",
   "execution_count": 15,
   "outputs": [
    {
     "data": {
      "text/plain": "<Figure size 640x480 with 1 Axes>",
      "image/png": "[encoded data removed]"
     },
     "metadata": {},
     "output_type": "display_data"
    }
   ],
   "source": [
    "import seaborn as sns\n",
    "smoker.hist(histtype='stepfilled', alpha=.5, bins=20)   # default number of bins = 10\n",
    "non_smoker.hist(histtype='stepfilled', alpha=.5, color=sns.desaturate(\"indianred\", .75), bins=10)\n",
    "plt.xlabel('Women',fontsize=15)\n",
    "plt.ylabel('Baby weight',fontsize=15)\n",
    "plt.show()"
   ],
   "metadata": {
    "collapsed": false,
    "ExecuteTime": {
     "end_time": "2023-10-29T04:51:50.260500Z",
     "start_time": "2023-10-29T04:51:48.823969Z"
    }
   },
   "id": "b973eabe4d01ded6"
  },
  {
   "cell_type": "markdown",
   "source": [
    "# Test Statistic"
   ],
   "metadata": {
    "collapsed": false
   },
   "id": "bbda6f538be07d24"
  },
  {
   "cell_type": "code",
   "execution_count": 16,
   "outputs": [
    {
     "data": {
      "text/plain": "pandas.core.frame.DataFrame"
     },
     "execution_count": 16,
     "metadata": {},
     "output_type": "execute_result"
    }
   ],
   "source": [
    "means_table = smoking_and_birthweight.groupby('Maternal Smoker').mean()\n",
    "type(means_table)"
   ],
   "metadata": {
    "collapsed": false,
    "ExecuteTime": {
     "end_time": "2023-10-29T04:52:08.378474Z",
     "start_time": "2023-10-29T04:52:08.373581Z"
    }
   },
   "id": "c6dc60a70391b126"
  },
  {
   "cell_type": "code",
   "execution_count": 17,
   "outputs": [
    {
     "data": {
      "text/plain": "                 Birth Weight\nMaternal Smoker              \nFalse              123.085315\nTrue               113.819172",
      "text/html": "<div>\n<style scoped>\n    .dataframe tbody tr th:only-of-type {\n        vertical-align: middle;\n    }\n\n    .dataframe tbody tr th {\n        vertical-align: top;\n    }\n\n    .dataframe thead th {\n        text-align: right;\n    }\n</style>\n<table border=\"1\" class=\"dataframe\">\n  <thead>\n    <tr style=\"text-align: right;\">\n      <th></th>\n      <th>Birth Weight</th>\n    </tr>\n    <tr>\n      <th>Maternal Smoker</th>\n      <th></th>\n    </tr>\n  </thead>\n  <tbody>\n    <tr>\n      <th>False</th>\n      <td>123.085315</td>\n    </tr>\n    <tr>\n      <th>True</th>\n      <td>113.819172</td>\n    </tr>\n  </tbody>\n</table>\n</div>"
     },
     "execution_count": 17,
     "metadata": {},
     "output_type": "execute_result"
    }
   ],
   "source": [
    "means_table"
   ],
   "metadata": {
    "collapsed": false,
    "ExecuteTime": {
     "end_time": "2023-10-29T04:52:12.642686Z",
     "start_time": "2023-10-29T04:52:12.623768Z"
    }
   },
   "id": "21e9682d3096f7d5"
  },
  {
   "cell_type": "code",
   "execution_count": 18,
   "outputs": [],
   "source": [
    "observed_difference = means_table['Birth Weight'][1] - means_table['Birth Weight'][0]"
   ],
   "metadata": {
    "collapsed": false,
    "ExecuteTime": {
     "end_time": "2023-10-29T04:52:18.275593Z",
     "start_time": "2023-10-29T04:52:18.263504Z"
    }
   },
   "id": "45dbc822a4874095"
  },
  {
   "cell_type": "markdown",
   "source": [
    "# Predicting the Statistic Under the Null Hypothesis"
   ],
   "metadata": {
    "collapsed": false
   },
   "id": "8bd3d5596ff12a93"
  },
  {
   "cell_type": "code",
   "execution_count": 19,
   "outputs": [
    {
     "data": {
      "text/plain": "      Maternal Smoker  Birth Weight\n0               False           120\n1               False           113\n2                True           128\n3                True           108\n4               False           136\n...               ...           ...\n1169            False           113\n1170            False           128\n1171             True           130\n1172            False           125\n1173            False           117\n\n[1174 rows x 2 columns]",
      "text/html": "<div>\n<style scoped>\n    .dataframe tbody tr th:only-of-type {\n        vertical-align: middle;\n    }\n\n    .dataframe tbody tr th {\n        vertical-align: top;\n    }\n\n    .dataframe thead th {\n        text-align: right;\n    }\n</style>\n<table border=\"1\" class=\"dataframe\">\n  <thead>\n    <tr style=\"text-align: right;\">\n      <th></th>\n      <th>Maternal Smoker</th>\n      <th>Birth Weight</th>\n    </tr>\n  </thead>\n  <tbody>\n    <tr>\n      <th>0</th>\n      <td>False</td>\n      <td>120</td>\n    </tr>\n    <tr>\n      <th>1</th>\n      <td>False</td>\n      <td>113</td>\n    </tr>\n    <tr>\n      <th>2</th>\n      <td>True</td>\n      <td>128</td>\n    </tr>\n    <tr>\n      <th>3</th>\n      <td>True</td>\n      <td>108</td>\n    </tr>\n    <tr>\n      <th>4</th>\n      <td>False</td>\n      <td>136</td>\n    </tr>\n    <tr>\n      <th>...</th>\n      <td>...</td>\n      <td>...</td>\n    </tr>\n    <tr>\n      <th>1169</th>\n      <td>False</td>\n      <td>113</td>\n    </tr>\n    <tr>\n      <th>1170</th>\n      <td>False</td>\n      <td>128</td>\n    </tr>\n    <tr>\n      <th>1171</th>\n      <td>True</td>\n      <td>130</td>\n    </tr>\n    <tr>\n      <th>1172</th>\n      <td>False</td>\n      <td>125</td>\n    </tr>\n    <tr>\n      <th>1173</th>\n      <td>False</td>\n      <td>117</td>\n    </tr>\n  </tbody>\n</table>\n<p>1174 rows × 2 columns</p>\n</div>"
     },
     "execution_count": 19,
     "metadata": {},
     "output_type": "execute_result"
    }
   ],
   "source": [
    "smoking_and_birthweight"
   ],
   "metadata": {
    "collapsed": false,
    "ExecuteTime": {
     "end_time": "2023-10-29T04:52:31.266627Z",
     "start_time": "2023-10-29T04:52:31.257170Z"
    }
   },
   "id": "1899668ee9d206ec"
  },
  {
   "cell_type": "code",
   "execution_count": 20,
   "outputs": [
    {
     "data": {
      "text/plain": "      Maternal Smoker  Birth Weight\n499             False           123\n628              True           119\n500             False           147\n1115            False           115\n391             False           115\n...               ...           ...\n1047             True           100\n744              True            96\n313              True           104\n124              True           128\n112             False           152\n\n[1174 rows x 2 columns]",
      "text/html": "<div>\n<style scoped>\n    .dataframe tbody tr th:only-of-type {\n        vertical-align: middle;\n    }\n\n    .dataframe tbody tr th {\n        vertical-align: top;\n    }\n\n    .dataframe thead th {\n        text-align: right;\n    }\n</style>\n<table border=\"1\" class=\"dataframe\">\n  <thead>\n    <tr style=\"text-align: right;\">\n      <th></th>\n      <th>Maternal Smoker</th>\n      <th>Birth Weight</th>\n    </tr>\n  </thead>\n  <tbody>\n    <tr>\n      <th>499</th>\n      <td>False</td>\n      <td>123</td>\n    </tr>\n    <tr>\n      <th>628</th>\n      <td>True</td>\n      <td>119</td>\n    </tr>\n    <tr>\n      <th>500</th>\n      <td>False</td>\n      <td>147</td>\n    </tr>\n    <tr>\n      <th>1115</th>\n      <td>False</td>\n      <td>115</td>\n    </tr>\n    <tr>\n      <th>391</th>\n      <td>False</td>\n      <td>115</td>\n    </tr>\n    <tr>\n      <th>...</th>\n      <td>...</td>\n      <td>...</td>\n    </tr>\n    <tr>\n      <th>1047</th>\n      <td>True</td>\n      <td>100</td>\n    </tr>\n    <tr>\n      <th>744</th>\n      <td>True</td>\n      <td>96</td>\n    </tr>\n    <tr>\n      <th>313</th>\n      <td>True</td>\n      <td>104</td>\n    </tr>\n    <tr>\n      <th>124</th>\n      <td>True</td>\n      <td>128</td>\n    </tr>\n    <tr>\n      <th>112</th>\n      <td>False</td>\n      <td>152</td>\n    </tr>\n  </tbody>\n</table>\n<p>1174 rows × 2 columns</p>\n</div>"
     },
     "execution_count": 20,
     "metadata": {},
     "output_type": "execute_result"
    }
   ],
   "source": [
    "shuffled = smoking_and_birthweight.sample(1174,replace = False)\n",
    "shuffled"
   ],
   "metadata": {
    "collapsed": false,
    "ExecuteTime": {
     "end_time": "2023-10-29T04:52:37.124963Z",
     "start_time": "2023-10-29T04:52:37.117394Z"
    }
   },
   "id": "a4de2325fb74c9bb"
  },
  {
   "cell_type": "code",
   "execution_count": 21,
   "outputs": [
    {
     "data": {
      "text/plain": "pandas.core.series.Series"
     },
     "execution_count": 21,
     "metadata": {},
     "output_type": "execute_result"
    }
   ],
   "source": [
    "shuffled_weights = shuffled['Birth Weight']\n",
    "type(shuffled_weights)"
   ],
   "metadata": {
    "collapsed": false,
    "ExecuteTime": {
     "end_time": "2023-10-29T04:52:41.987793Z",
     "start_time": "2023-10-29T04:52:41.967731Z"
    }
   },
   "id": "d4e3ab12da28c08e"
  },
  {
   "cell_type": "code",
   "execution_count": 22,
   "outputs": [
    {
     "data": {
      "text/plain": "      Maternal Smoker  Birth Weight  shuffled_weights\n0               False           120               123\n1               False           113               119\n2                True           128               147\n3                True           108               115\n4               False           136               115\n...               ...           ...               ...\n1169            False           113               100\n1170            False           128                96\n1171             True           130               104\n1172            False           125               128\n1173            False           117               152\n\n[1174 rows x 3 columns]",
      "text/html": "<div>\n<style scoped>\n    .dataframe tbody tr th:only-of-type {\n        vertical-align: middle;\n    }\n\n    .dataframe tbody tr th {\n        vertical-align: top;\n    }\n\n    .dataframe thead th {\n        text-align: right;\n    }\n</style>\n<table border=\"1\" class=\"dataframe\">\n  <thead>\n    <tr style=\"text-align: right;\">\n      <th></th>\n      <th>Maternal Smoker</th>\n      <th>Birth Weight</th>\n      <th>shuffled_weights</th>\n    </tr>\n  </thead>\n  <tbody>\n    <tr>\n      <th>0</th>\n      <td>False</td>\n      <td>120</td>\n      <td>123</td>\n    </tr>\n    <tr>\n      <th>1</th>\n      <td>False</td>\n      <td>113</td>\n      <td>119</td>\n    </tr>\n    <tr>\n      <th>2</th>\n      <td>True</td>\n      <td>128</td>\n      <td>147</td>\n    </tr>\n    <tr>\n      <th>3</th>\n      <td>True</td>\n      <td>108</td>\n      <td>115</td>\n    </tr>\n    <tr>\n      <th>4</th>\n      <td>False</td>\n      <td>136</td>\n      <td>115</td>\n    </tr>\n    <tr>\n      <th>...</th>\n      <td>...</td>\n      <td>...</td>\n      <td>...</td>\n    </tr>\n    <tr>\n      <th>1169</th>\n      <td>False</td>\n      <td>113</td>\n      <td>100</td>\n    </tr>\n    <tr>\n      <th>1170</th>\n      <td>False</td>\n      <td>128</td>\n      <td>96</td>\n    </tr>\n    <tr>\n      <th>1171</th>\n      <td>True</td>\n      <td>130</td>\n      <td>104</td>\n    </tr>\n    <tr>\n      <th>1172</th>\n      <td>False</td>\n      <td>125</td>\n      <td>128</td>\n    </tr>\n    <tr>\n      <th>1173</th>\n      <td>False</td>\n      <td>117</td>\n      <td>152</td>\n    </tr>\n  </tbody>\n</table>\n<p>1174 rows × 3 columns</p>\n</div>"
     },
     "execution_count": 22,
     "metadata": {},
     "output_type": "execute_result"
    }
   ],
   "source": [
    "original_and_shuffled= smoking_and_birthweight.assign(shuffled_weights=shuffled_weights.values )\n",
    "original_and_shuffled"
   ],
   "metadata": {
    "collapsed": false,
    "ExecuteTime": {
     "end_time": "2023-10-29T04:52:54.905213Z",
     "start_time": "2023-10-29T04:52:54.884947Z"
    }
   },
   "id": "148df942e967e459"
  },
  {
   "cell_type": "code",
   "execution_count": 23,
   "outputs": [
    {
     "data": {
      "text/plain": "                 Birth Weight  shuffled_weights\nMaternal Smoker                                \nFalse              123.085315        119.855944\nTrue               113.819172        118.849673",
      "text/html": "<div>\n<style scoped>\n    .dataframe tbody tr th:only-of-type {\n        vertical-align: middle;\n    }\n\n    .dataframe tbody tr th {\n        vertical-align: top;\n    }\n\n    .dataframe thead th {\n        text-align: right;\n    }\n</style>\n<table border=\"1\" class=\"dataframe\">\n  <thead>\n    <tr style=\"text-align: right;\">\n      <th></th>\n      <th>Birth Weight</th>\n      <th>shuffled_weights</th>\n    </tr>\n    <tr>\n      <th>Maternal Smoker</th>\n      <th></th>\n      <th></th>\n    </tr>\n  </thead>\n  <tbody>\n    <tr>\n      <th>False</th>\n      <td>123.085315</td>\n      <td>119.855944</td>\n    </tr>\n    <tr>\n      <th>True</th>\n      <td>113.819172</td>\n      <td>118.849673</td>\n    </tr>\n  </tbody>\n</table>\n</div>"
     },
     "execution_count": 23,
     "metadata": {},
     "output_type": "execute_result"
    }
   ],
   "source": [
    "all_group_means= original_and_shuffled.groupby('Maternal Smoker').mean()\n",
    "all_group_means"
   ],
   "metadata": {
    "collapsed": false,
    "ExecuteTime": {
     "end_time": "2023-10-29T04:53:03.360149Z",
     "start_time": "2023-10-29T04:53:03.339463Z"
    }
   },
   "id": "d5d07457712c9c9"
  },
  {
   "cell_type": "code",
   "execution_count": 24,
   "outputs": [
    {
     "data": {
      "text/plain": "1.0062708533296671"
     },
     "execution_count": 24,
     "metadata": {},
     "output_type": "execute_result"
    }
   ],
   "source": [
    "difference = all_group_means['shuffled_weights'][0]- all_group_means['shuffled_weights'][1]\n",
    "difference"
   ],
   "metadata": {
    "collapsed": false,
    "ExecuteTime": {
     "end_time": "2023-10-29T04:53:09.082759Z",
     "start_time": "2023-10-29T04:53:09.064124Z"
    }
   },
   "id": "ae9ca3991a9e7224"
  },
  {
   "cell_type": "code",
   "execution_count": 25,
   "outputs": [
    {
     "data": {
      "text/plain": "-1.6444718680012755"
     },
     "execution_count": 25,
     "metadata": {},
     "output_type": "execute_result"
    }
   ],
   "source": [
    "smoking_and_birthweight = baby[['Maternal Smoker', 'Birth Weight']]\n",
    "shuffled = smoking_and_birthweight.sample(1174,replace = False)\n",
    "shuffled_weights = shuffled['Birth Weight']\n",
    "original_and_shuffled = smoking_and_birthweight.assign(shuffled_weights=shuffled_weights.values )\n",
    "all_group_means= original_and_shuffled.groupby('Maternal Smoker').mean()\n",
    "difference = all_group_means['shuffled_weights'][0]- all_group_means['shuffled_weights'][1]\n",
    "difference"
   ],
   "metadata": {
    "collapsed": false,
    "ExecuteTime": {
     "end_time": "2023-10-29T04:53:16.088601Z",
     "start_time": "2023-10-29T04:53:16.069407Z"
    }
   },
   "id": "e3ec5ebaf968a28e"
  },
  {
   "cell_type": "markdown",
   "source": [
    "# Permutation Test"
   ],
   "metadata": {
    "collapsed": false
   },
   "id": "bc26bc051011544c"
  },
  {
   "cell_type": "code",
   "execution_count": 26,
   "outputs": [],
   "source": [
    "import numpy as np\n",
    "import array\n",
    "differences = np.zeros(5000)"
   ],
   "metadata": {
    "collapsed": false,
    "ExecuteTime": {
     "end_time": "2023-10-29T04:53:35.004353Z",
     "start_time": "2023-10-29T04:53:34.984094Z"
    }
   },
   "id": "af8b4f72becfa872"
  },
  {
   "cell_type": "code",
   "execution_count": 27,
   "outputs": [],
   "source": [
    "for i in np.arange(5000):\n",
    "    smoking_and_birthweight = baby[['Maternal Smoker', 'Birth Weight']]\n",
    "    shuffled = smoking_and_birthweight.sample(1174,replace = False)\n",
    "    shuffled_weights = shuffled['Birth Weight']\n",
    "    original_and_shuffled = smoking_and_birthweight.assign(shuffled_weights=shuffled_weights.values )\n",
    "    all_group_means= original_and_shuffled.groupby('Maternal Smoker').mean()\n",
    "    difference = all_group_means['shuffled_weights'][0]- all_group_means['shuffled_weights'][1]\n",
    "    differences[i] = difference"
   ],
   "metadata": {
    "collapsed": false,
    "ExecuteTime": {
     "end_time": "2023-10-29T04:53:43.567531Z",
     "start_time": "2023-10-29T04:53:40.854119Z"
    }
   },
   "id": "2725df9cb0f5a63d"
  },
  {
   "cell_type": "code",
   "execution_count": 28,
   "outputs": [
    {
     "data": {
      "text/plain": "array([ 0.53407377, -0.53910142,  0.29439798, ...,  0.10122644,\n       -0.66788244, -1.11146152])"
     },
     "execution_count": 28,
     "metadata": {},
     "output_type": "execute_result"
    }
   ],
   "source": [
    "differences"
   ],
   "metadata": {
    "collapsed": false,
    "ExecuteTime": {
     "end_time": "2023-10-29T04:53:45.675467Z",
     "start_time": "2023-10-29T04:53:45.648193Z"
    }
   },
   "id": "6473d3461cbe46eb"
  },
  {
   "cell_type": "code",
   "execution_count": 29,
   "outputs": [],
   "source": [
    "import matplotlib\n",
    "%matplotlib inline\n",
    "import matplotlib.pyplot as plt\n",
    "plt.style.use('fivethirtyeight')"
   ],
   "metadata": {
    "collapsed": false,
    "ExecuteTime": {
     "end_time": "2023-10-29T04:53:50.682427Z",
     "start_time": "2023-10-29T04:53:50.660345Z"
    }
   },
   "id": "c49b10da09986102"
  },
  {
   "cell_type": "code",
   "execution_count": 30,
   "outputs": [
    {
     "data": {
      "text/plain": "             0\n0     0.534074\n1    -0.539101\n2     0.294398\n3     0.898953\n4    -1.490650\n...        ...\n4995 -0.235035\n4996 -0.235035\n4997  0.101226\n4998 -0.667882\n4999 -1.111462\n\n[5000 rows x 1 columns]",
      "text/html": "<div>\n<style scoped>\n    .dataframe tbody tr th:only-of-type {\n        vertical-align: middle;\n    }\n\n    .dataframe tbody tr th {\n        vertical-align: top;\n    }\n\n    .dataframe thead th {\n        text-align: right;\n    }\n</style>\n<table border=\"1\" class=\"dataframe\">\n  <thead>\n    <tr style=\"text-align: right;\">\n      <th></th>\n      <th>0</th>\n    </tr>\n  </thead>\n  <tbody>\n    <tr>\n      <th>0</th>\n      <td>0.534074</td>\n    </tr>\n    <tr>\n      <th>1</th>\n      <td>-0.539101</td>\n    </tr>\n    <tr>\n      <th>2</th>\n      <td>0.294398</td>\n    </tr>\n    <tr>\n      <th>3</th>\n      <td>0.898953</td>\n    </tr>\n    <tr>\n      <th>4</th>\n      <td>-1.490650</td>\n    </tr>\n    <tr>\n      <th>...</th>\n      <td>...</td>\n    </tr>\n    <tr>\n      <th>4995</th>\n      <td>-0.235035</td>\n    </tr>\n    <tr>\n      <th>4996</th>\n      <td>-0.235035</td>\n    </tr>\n    <tr>\n      <th>4997</th>\n      <td>0.101226</td>\n    </tr>\n    <tr>\n      <th>4998</th>\n      <td>-0.667882</td>\n    </tr>\n    <tr>\n      <th>4999</th>\n      <td>-1.111462</td>\n    </tr>\n  </tbody>\n</table>\n<p>5000 rows × 1 columns</p>\n</div>"
     },
     "execution_count": 30,
     "metadata": {},
     "output_type": "execute_result"
    }
   ],
   "source": [
    "differences_df = pd.DataFrame(differences)\n",
    "differences_df"
   ],
   "metadata": {
    "collapsed": false,
    "ExecuteTime": {
     "end_time": "2023-10-29T04:53:56.604264Z",
     "start_time": "2023-10-29T04:53:56.570306Z"
    }
   },
   "id": "203a72052c71fc89"
  },
  {
   "cell_type": "code",
   "execution_count": 31,
   "outputs": [
    {
     "name": "stdout",
     "output_type": "stream",
     "text": [
      "Observed Difference: -9.266142572024918\n"
     ]
    },
    {
     "data": {
      "text/plain": "<Figure size 640x480 with 1 Axes>",
      "image/png": "[encoded data removed]"
     },
     "metadata": {},
     "output_type": "display_data"
    }
   ],
   "source": [
    "differences_df.hist(bins = np.arange(-5,5,0.5))\n",
    "plt.title('Prediction Under Null Hypotheses');\n",
    "plt.xlabel('Differences between Group Averages',fontsize=15)\n",
    "plt.ylabel('Units',fontsize=15);\n",
    "print('Observed Difference:', observed_difference)"
   ],
   "metadata": {
    "collapsed": false,
    "ExecuteTime": {
     "end_time": "2023-10-29T04:54:03.821851Z",
     "start_time": "2023-10-29T04:54:03.715919Z"
    }
   },
   "id": "3e9d153a5f7af4a0"
  },
  {
   "cell_type": "code",
   "execution_count": 32,
   "outputs": [
    {
     "data": {
      "text/plain": "0.0"
     },
     "execution_count": 32,
     "metadata": {},
     "output_type": "execute_result"
    }
   ],
   "source": [
    "np.count_nonzero(differences <= observed_difference)/differences.size"
   ],
   "metadata": {
    "collapsed": false,
    "ExecuteTime": {
     "end_time": "2023-10-29T04:54:12.399661Z",
     "start_time": "2023-10-29T04:54:12.371814Z"
    }
   },
   "id": "c47637f94eafd9a6"
  }
 ],
 "metadata": {
  "kernelspec": {
   "display_name": "Python 3",
   "language": "python",
   "name": "python3"
  },
  "language_info": {
   "codemirror_mode": {
    "name": "ipython",
    "version": 2
   },
   "file_extension": ".py",
   "mimetype": "text/x-python",
   "name": "python",
   "nbconvert_exporter": "python",
   "pygments_lexer": "ipython2",
   "version": "2.7.6"
  }
 },
 "nbformat": 4,
 "nbformat_minor": 5
}
