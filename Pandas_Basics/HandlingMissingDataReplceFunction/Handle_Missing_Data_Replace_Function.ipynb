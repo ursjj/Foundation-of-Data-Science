{
 "cells": [
  {
   "cell_type": "code",
   "execution_count": 14,
   "id": "initial_id",
   "metadata": {
    "collapsed": true,
    "ExecuteTime": {
     "end_time": "2023-10-15T07:59:11.539276Z",
     "start_time": "2023-10-15T07:59:11.527246Z"
    }
   },
   "outputs": [
    {
     "data": {
      "text/plain": "        day temperature windspeed     event\n0  01/01/17        32 F     6 mph      Rain\n1  01/02/17      -99999     7 mph     Sunny\n2  01/03/17          28    -99999      Snow\n3  01/04/17      -99999         7  No Event\n4  01/05/17        32 C    -99999      Rain\n5  01/06/17          31         2     Sunny\n6  01/06/17          34         5  No Event",
      "text/html": "<div>\n<style scoped>\n    .dataframe tbody tr th:only-of-type {\n        vertical-align: middle;\n    }\n\n    .dataframe tbody tr th {\n        vertical-align: top;\n    }\n\n    .dataframe thead th {\n        text-align: right;\n    }\n</style>\n<table border=\"1\" class=\"dataframe\">\n  <thead>\n    <tr style=\"text-align: right;\">\n      <th></th>\n      <th>day</th>\n      <th>temperature</th>\n      <th>windspeed</th>\n      <th>event</th>\n    </tr>\n  </thead>\n  <tbody>\n    <tr>\n      <th>0</th>\n      <td>01/01/17</td>\n      <td>32 F</td>\n      <td>6 mph</td>\n      <td>Rain</td>\n    </tr>\n    <tr>\n      <th>1</th>\n      <td>01/02/17</td>\n      <td>-99999</td>\n      <td>7 mph</td>\n      <td>Sunny</td>\n    </tr>\n    <tr>\n      <th>2</th>\n      <td>01/03/17</td>\n      <td>28</td>\n      <td>-99999</td>\n      <td>Snow</td>\n    </tr>\n    <tr>\n      <th>3</th>\n      <td>01/04/17</td>\n      <td>-99999</td>\n      <td>7</td>\n      <td>No Event</td>\n    </tr>\n    <tr>\n      <th>4</th>\n      <td>01/05/17</td>\n      <td>32 C</td>\n      <td>-99999</td>\n      <td>Rain</td>\n    </tr>\n    <tr>\n      <th>5</th>\n      <td>01/06/17</td>\n      <td>31</td>\n      <td>2</td>\n      <td>Sunny</td>\n    </tr>\n    <tr>\n      <th>6</th>\n      <td>01/06/17</td>\n      <td>34</td>\n      <td>5</td>\n      <td>No Event</td>\n    </tr>\n  </tbody>\n</table>\n</div>"
     },
     "execution_count": 14,
     "metadata": {},
     "output_type": "execute_result"
    }
   ],
   "source": [
    "import pandas as pd\n",
    "import numpy as np\n",
    "df = pd.read_csv('weather_data.csv')\n",
    "df"
   ]
  },
  {
   "cell_type": "code",
   "execution_count": 2,
   "outputs": [
    {
     "data": {
      "text/plain": "        day  temperature  windspeed  event\n0  1/1/2017         32.0        6.0   Rain\n1  1/2/2017          NaN        7.0  Sunny\n2  1/3/2017         28.0        NaN   Snow\n3  1/4/2017          NaN        7.0      0\n4  1/5/2017         32.0        NaN   Rain\n5  1/6/2017         31.0        2.0  Sunny\n6  1/6/2017         34.0        5.0      0",
      "text/html": "<div>\n<style scoped>\n    .dataframe tbody tr th:only-of-type {\n        vertical-align: middle;\n    }\n\n    .dataframe tbody tr th {\n        vertical-align: top;\n    }\n\n    .dataframe thead th {\n        text-align: right;\n    }\n</style>\n<table border=\"1\" class=\"dataframe\">\n  <thead>\n    <tr style=\"text-align: right;\">\n      <th></th>\n      <th>day</th>\n      <th>temperature</th>\n      <th>windspeed</th>\n      <th>event</th>\n    </tr>\n  </thead>\n  <tbody>\n    <tr>\n      <th>0</th>\n      <td>1/1/2017</td>\n      <td>32.0</td>\n      <td>6.0</td>\n      <td>Rain</td>\n    </tr>\n    <tr>\n      <th>1</th>\n      <td>1/2/2017</td>\n      <td>NaN</td>\n      <td>7.0</td>\n      <td>Sunny</td>\n    </tr>\n    <tr>\n      <th>2</th>\n      <td>1/3/2017</td>\n      <td>28.0</td>\n      <td>NaN</td>\n      <td>Snow</td>\n    </tr>\n    <tr>\n      <th>3</th>\n      <td>1/4/2017</td>\n      <td>NaN</td>\n      <td>7.0</td>\n      <td>0</td>\n    </tr>\n    <tr>\n      <th>4</th>\n      <td>1/5/2017</td>\n      <td>32.0</td>\n      <td>NaN</td>\n      <td>Rain</td>\n    </tr>\n    <tr>\n      <th>5</th>\n      <td>1/6/2017</td>\n      <td>31.0</td>\n      <td>2.0</td>\n      <td>Sunny</td>\n    </tr>\n    <tr>\n      <th>6</th>\n      <td>1/6/2017</td>\n      <td>34.0</td>\n      <td>5.0</td>\n      <td>0</td>\n    </tr>\n  </tbody>\n</table>\n</div>"
     },
     "execution_count": 2,
     "metadata": {},
     "output_type": "execute_result"
    }
   ],
   "source": [
    "new_df = df.replace(-99999, np.NAN)    # df.replace([-99999, -88888, 0], np.NAN)\n",
    "new_df"
   ],
   "metadata": {
    "collapsed": false,
    "ExecuteTime": {
     "end_time": "2023-10-14T09:17:02.672233Z",
     "start_time": "2023-10-14T09:17:02.670371Z"
    }
   },
   "id": "843d6f50eb49f8e"
  },
  {
   "cell_type": "markdown",
   "source": [
    "-> Replacment based on columns"
   ],
   "metadata": {
    "collapsed": false
   },
   "id": "820b1ad513f21adb"
  },
  {
   "cell_type": "code",
   "execution_count": 4,
   "outputs": [
    {
     "data": {
      "text/plain": "        day  temperature  windspeed  event\n0  1/1/2017         32.0        6.0   Rain\n1  1/2/2017          NaN        7.0  Sunny\n2  1/3/2017         28.0        NaN   Snow\n3  1/4/2017          NaN        7.0    NaN\n4  1/5/2017         32.0        NaN   Rain\n5  1/6/2017         31.0        2.0  Sunny\n6  1/6/2017         34.0        5.0    NaN",
      "text/html": "<div>\n<style scoped>\n    .dataframe tbody tr th:only-of-type {\n        vertical-align: middle;\n    }\n\n    .dataframe tbody tr th {\n        vertical-align: top;\n    }\n\n    .dataframe thead th {\n        text-align: right;\n    }\n</style>\n<table border=\"1\" class=\"dataframe\">\n  <thead>\n    <tr style=\"text-align: right;\">\n      <th></th>\n      <th>day</th>\n      <th>temperature</th>\n      <th>windspeed</th>\n      <th>event</th>\n    </tr>\n  </thead>\n  <tbody>\n    <tr>\n      <th>0</th>\n      <td>1/1/2017</td>\n      <td>32.0</td>\n      <td>6.0</td>\n      <td>Rain</td>\n    </tr>\n    <tr>\n      <th>1</th>\n      <td>1/2/2017</td>\n      <td>NaN</td>\n      <td>7.0</td>\n      <td>Sunny</td>\n    </tr>\n    <tr>\n      <th>2</th>\n      <td>1/3/2017</td>\n      <td>28.0</td>\n      <td>NaN</td>\n      <td>Snow</td>\n    </tr>\n    <tr>\n      <th>3</th>\n      <td>1/4/2017</td>\n      <td>NaN</td>\n      <td>7.0</td>\n      <td>NaN</td>\n    </tr>\n    <tr>\n      <th>4</th>\n      <td>1/5/2017</td>\n      <td>32.0</td>\n      <td>NaN</td>\n      <td>Rain</td>\n    </tr>\n    <tr>\n      <th>5</th>\n      <td>1/6/2017</td>\n      <td>31.0</td>\n      <td>2.0</td>\n      <td>Sunny</td>\n    </tr>\n    <tr>\n      <th>6</th>\n      <td>1/6/2017</td>\n      <td>34.0</td>\n      <td>5.0</td>\n      <td>NaN</td>\n    </tr>\n  </tbody>\n</table>\n</div>"
     },
     "execution_count": 4,
     "metadata": {},
     "output_type": "execute_result"
    }
   ],
   "source": [
    "new_df = df.replace({\n",
    "    'temperature': -99999,\n",
    "    'windspeed': -99999,\n",
    "    'event': '0'\n",
    "}, np.NaN)\n",
    "new_df"
   ],
   "metadata": {
    "collapsed": false,
    "ExecuteTime": {
     "end_time": "2023-10-15T07:49:06.790709Z",
     "start_time": "2023-10-15T07:49:06.779180Z"
    }
   },
   "id": "1509ec6c546713fb"
  },
  {
   "cell_type": "markdown",
   "source": [
    "-> Replacement using Mapping of Dictionary"
   ],
   "metadata": {
    "collapsed": false
   },
   "id": "4e6e30e786d30992"
  },
  {
   "cell_type": "code",
   "execution_count": 6,
   "outputs": [
    {
     "data": {
      "text/plain": "        day  temperature  windspeed  event\n0  1/1/2017         32.0        6.0   Rain\n1  1/2/2017          NaN        7.0  Sunny\n2  1/3/2017         28.0        NaN   Snow\n3  1/4/2017          NaN        7.0  Sunny\n4  1/5/2017         32.0        NaN   Rain\n5  1/6/2017         31.0        2.0  Sunny\n6  1/6/2017         34.0        5.0  Sunny",
      "text/html": "<div>\n<style scoped>\n    .dataframe tbody tr th:only-of-type {\n        vertical-align: middle;\n    }\n\n    .dataframe tbody tr th {\n        vertical-align: top;\n    }\n\n    .dataframe thead th {\n        text-align: right;\n    }\n</style>\n<table border=\"1\" class=\"dataframe\">\n  <thead>\n    <tr style=\"text-align: right;\">\n      <th></th>\n      <th>day</th>\n      <th>temperature</th>\n      <th>windspeed</th>\n      <th>event</th>\n    </tr>\n  </thead>\n  <tbody>\n    <tr>\n      <th>0</th>\n      <td>1/1/2017</td>\n      <td>32.0</td>\n      <td>6.0</td>\n      <td>Rain</td>\n    </tr>\n    <tr>\n      <th>1</th>\n      <td>1/2/2017</td>\n      <td>NaN</td>\n      <td>7.0</td>\n      <td>Sunny</td>\n    </tr>\n    <tr>\n      <th>2</th>\n      <td>1/3/2017</td>\n      <td>28.0</td>\n      <td>NaN</td>\n      <td>Snow</td>\n    </tr>\n    <tr>\n      <th>3</th>\n      <td>1/4/2017</td>\n      <td>NaN</td>\n      <td>7.0</td>\n      <td>Sunny</td>\n    </tr>\n    <tr>\n      <th>4</th>\n      <td>1/5/2017</td>\n      <td>32.0</td>\n      <td>NaN</td>\n      <td>Rain</td>\n    </tr>\n    <tr>\n      <th>5</th>\n      <td>1/6/2017</td>\n      <td>31.0</td>\n      <td>2.0</td>\n      <td>Sunny</td>\n    </tr>\n    <tr>\n      <th>6</th>\n      <td>1/6/2017</td>\n      <td>34.0</td>\n      <td>5.0</td>\n      <td>Sunny</td>\n    </tr>\n  </tbody>\n</table>\n</div>"
     },
     "execution_count": 6,
     "metadata": {},
     "output_type": "execute_result"
    }
   ],
   "source": [
    "new_df = df.replace({\n",
    "    -99999: np.NaN,\n",
    "    '0':'Sunny'\n",
    "})\n",
    "new_df"
   ],
   "metadata": {
    "collapsed": false,
    "ExecuteTime": {
     "end_time": "2023-10-15T07:51:39.952688Z",
     "start_time": "2023-10-15T07:51:39.949589Z"
    }
   },
   "id": "24110e636a2f8a39"
  },
  {
   "cell_type": "code",
   "execution_count": 15,
   "outputs": [
    {
     "data": {
      "text/plain": "        day temperature windspeed     event\n0  01/01/17        32 F     6 mph      Rain\n1  01/02/17      -99999     7 mph     Sunny\n2  01/03/17          28    -99999      Snow\n3  01/04/17      -99999         7  No Event\n4  01/05/17        32 C    -99999      Rain\n5  01/06/17          31         2     Sunny\n6  01/06/17          34         5  No Event",
      "text/html": "<div>\n<style scoped>\n    .dataframe tbody tr th:only-of-type {\n        vertical-align: middle;\n    }\n\n    .dataframe tbody tr th {\n        vertical-align: top;\n    }\n\n    .dataframe thead th {\n        text-align: right;\n    }\n</style>\n<table border=\"1\" class=\"dataframe\">\n  <thead>\n    <tr style=\"text-align: right;\">\n      <th></th>\n      <th>day</th>\n      <th>temperature</th>\n      <th>windspeed</th>\n      <th>event</th>\n    </tr>\n  </thead>\n  <tbody>\n    <tr>\n      <th>0</th>\n      <td>01/01/17</td>\n      <td>32 F</td>\n      <td>6 mph</td>\n      <td>Rain</td>\n    </tr>\n    <tr>\n      <th>1</th>\n      <td>01/02/17</td>\n      <td>-99999</td>\n      <td>7 mph</td>\n      <td>Sunny</td>\n    </tr>\n    <tr>\n      <th>2</th>\n      <td>01/03/17</td>\n      <td>28</td>\n      <td>-99999</td>\n      <td>Snow</td>\n    </tr>\n    <tr>\n      <th>3</th>\n      <td>01/04/17</td>\n      <td>-99999</td>\n      <td>7</td>\n      <td>No Event</td>\n    </tr>\n    <tr>\n      <th>4</th>\n      <td>01/05/17</td>\n      <td>32 C</td>\n      <td>-99999</td>\n      <td>Rain</td>\n    </tr>\n    <tr>\n      <th>5</th>\n      <td>01/06/17</td>\n      <td>31</td>\n      <td>2</td>\n      <td>Sunny</td>\n    </tr>\n    <tr>\n      <th>6</th>\n      <td>01/06/17</td>\n      <td>34</td>\n      <td>5</td>\n      <td>No Event</td>\n    </tr>\n  </tbody>\n</table>\n</div>"
     },
     "execution_count": 15,
     "metadata": {},
     "output_type": "execute_result"
    }
   ],
   "source": [
    "df"
   ],
   "metadata": {
    "collapsed": false,
    "ExecuteTime": {
     "end_time": "2023-10-15T07:59:19.934018Z",
     "start_time": "2023-10-15T07:59:19.930041Z"
    }
   },
   "id": "a1f029214270275e"
  },
  {
   "cell_type": "markdown",
   "source": [
    "-> It replaces all the aplhabets between A-Z and a-z"
   ],
   "metadata": {
    "collapsed": false
   },
   "id": "18fb722f2368b43c"
  },
  {
   "cell_type": "code",
   "execution_count": 16,
   "outputs": [
    {
     "data": {
      "text/plain": "        day temperature windspeed event\n0  01/01/17         32         6       \n1  01/02/17      -99999        7       \n2  01/03/17          28    -99999      \n3  01/04/17      -99999         7      \n4  01/05/17         32     -99999      \n5  01/06/17          31         2      \n6  01/06/17          34         5      ",
      "text/html": "<div>\n<style scoped>\n    .dataframe tbody tr th:only-of-type {\n        vertical-align: middle;\n    }\n\n    .dataframe tbody tr th {\n        vertical-align: top;\n    }\n\n    .dataframe thead th {\n        text-align: right;\n    }\n</style>\n<table border=\"1\" class=\"dataframe\">\n  <thead>\n    <tr style=\"text-align: right;\">\n      <th></th>\n      <th>day</th>\n      <th>temperature</th>\n      <th>windspeed</th>\n      <th>event</th>\n    </tr>\n  </thead>\n  <tbody>\n    <tr>\n      <th>0</th>\n      <td>01/01/17</td>\n      <td>32</td>\n      <td>6</td>\n      <td></td>\n    </tr>\n    <tr>\n      <th>1</th>\n      <td>01/02/17</td>\n      <td>-99999</td>\n      <td>7</td>\n      <td></td>\n    </tr>\n    <tr>\n      <th>2</th>\n      <td>01/03/17</td>\n      <td>28</td>\n      <td>-99999</td>\n      <td></td>\n    </tr>\n    <tr>\n      <th>3</th>\n      <td>01/04/17</td>\n      <td>-99999</td>\n      <td>7</td>\n      <td></td>\n    </tr>\n    <tr>\n      <th>4</th>\n      <td>01/05/17</td>\n      <td>32</td>\n      <td>-99999</td>\n      <td></td>\n    </tr>\n    <tr>\n      <th>5</th>\n      <td>01/06/17</td>\n      <td>31</td>\n      <td>2</td>\n      <td></td>\n    </tr>\n    <tr>\n      <th>6</th>\n      <td>01/06/17</td>\n      <td>34</td>\n      <td>5</td>\n      <td></td>\n    </tr>\n  </tbody>\n</table>\n</div>"
     },
     "execution_count": 16,
     "metadata": {},
     "output_type": "execute_result"
    }
   ],
   "source": [
    "new_df = df.replace('[A-Za-z]','', regex= True)\n",
    "new_df"
   ],
   "metadata": {
    "collapsed": false,
    "ExecuteTime": {
     "end_time": "2023-10-15T07:59:22.103370Z",
     "start_time": "2023-10-15T07:59:22.099708Z"
    }
   },
   "id": "b1a3b65374fae784"
  },
  {
   "cell_type": "markdown",
   "source": [
    "-> Using Dictionary we can replace only the needed columns"
   ],
   "metadata": {
    "collapsed": false
   },
   "id": "52d8be88bc3873f8"
  },
  {
   "cell_type": "code",
   "execution_count": 17,
   "outputs": [
    {
     "data": {
      "text/plain": "        day temperature windspeed     event\n0  01/01/17         32         6       Rain\n1  01/02/17      -99999        7      Sunny\n2  01/03/17          28    -99999      Snow\n3  01/04/17      -99999         7  No Event\n4  01/05/17         32     -99999      Rain\n5  01/06/17          31         2     Sunny\n6  01/06/17          34         5  No Event",
      "text/html": "<div>\n<style scoped>\n    .dataframe tbody tr th:only-of-type {\n        vertical-align: middle;\n    }\n\n    .dataframe tbody tr th {\n        vertical-align: top;\n    }\n\n    .dataframe thead th {\n        text-align: right;\n    }\n</style>\n<table border=\"1\" class=\"dataframe\">\n  <thead>\n    <tr style=\"text-align: right;\">\n      <th></th>\n      <th>day</th>\n      <th>temperature</th>\n      <th>windspeed</th>\n      <th>event</th>\n    </tr>\n  </thead>\n  <tbody>\n    <tr>\n      <th>0</th>\n      <td>01/01/17</td>\n      <td>32</td>\n      <td>6</td>\n      <td>Rain</td>\n    </tr>\n    <tr>\n      <th>1</th>\n      <td>01/02/17</td>\n      <td>-99999</td>\n      <td>7</td>\n      <td>Sunny</td>\n    </tr>\n    <tr>\n      <th>2</th>\n      <td>01/03/17</td>\n      <td>28</td>\n      <td>-99999</td>\n      <td>Snow</td>\n    </tr>\n    <tr>\n      <th>3</th>\n      <td>01/04/17</td>\n      <td>-99999</td>\n      <td>7</td>\n      <td>No Event</td>\n    </tr>\n    <tr>\n      <th>4</th>\n      <td>01/05/17</td>\n      <td>32</td>\n      <td>-99999</td>\n      <td>Rain</td>\n    </tr>\n    <tr>\n      <th>5</th>\n      <td>01/06/17</td>\n      <td>31</td>\n      <td>2</td>\n      <td>Sunny</td>\n    </tr>\n    <tr>\n      <th>6</th>\n      <td>01/06/17</td>\n      <td>34</td>\n      <td>5</td>\n      <td>No Event</td>\n    </tr>\n  </tbody>\n</table>\n</div>"
     },
     "execution_count": 17,
     "metadata": {},
     "output_type": "execute_result"
    }
   ],
   "source": [
    "new_df = df.replace({\n",
    "    'temperature':'[A-Za-z]',\n",
    "    'windspeed':'[A-Za-z]'\n",
    "},'', regex= True)\n",
    "new_df"
   ],
   "metadata": {
    "collapsed": false,
    "ExecuteTime": {
     "end_time": "2023-10-15T08:05:13.192029Z",
     "start_time": "2023-10-15T08:05:13.172249Z"
    }
   },
   "id": "2dc451a0ce71ff9d"
  },
  {
   "cell_type": "code",
   "execution_count": 18,
   "outputs": [
    {
     "data": {
      "text/plain": "         score  student\n0  exceptional      rob\n1      average     maya\n2         good  parthiv\n3         poor      tom\n4      average   julian\n5  exceptional    erica",
      "text/html": "<div>\n<style scoped>\n    .dataframe tbody tr th:only-of-type {\n        vertical-align: middle;\n    }\n\n    .dataframe tbody tr th {\n        vertical-align: top;\n    }\n\n    .dataframe thead th {\n        text-align: right;\n    }\n</style>\n<table border=\"1\" class=\"dataframe\">\n  <thead>\n    <tr style=\"text-align: right;\">\n      <th></th>\n      <th>score</th>\n      <th>student</th>\n    </tr>\n  </thead>\n  <tbody>\n    <tr>\n      <th>0</th>\n      <td>exceptional</td>\n      <td>rob</td>\n    </tr>\n    <tr>\n      <th>1</th>\n      <td>average</td>\n      <td>maya</td>\n    </tr>\n    <tr>\n      <th>2</th>\n      <td>good</td>\n      <td>parthiv</td>\n    </tr>\n    <tr>\n      <th>3</th>\n      <td>poor</td>\n      <td>tom</td>\n    </tr>\n    <tr>\n      <th>4</th>\n      <td>average</td>\n      <td>julian</td>\n    </tr>\n    <tr>\n      <th>5</th>\n      <td>exceptional</td>\n      <td>erica</td>\n    </tr>\n  </tbody>\n</table>\n</div>"
     },
     "execution_count": 18,
     "metadata": {},
     "output_type": "execute_result"
    }
   ],
   "source": [
    "df = pd.DataFrame({\n",
    "    'score': ['exceptional', 'average', 'good', 'poor', 'average', 'exceptional'],\n",
    "    'student': ['rob', 'maya', 'parthiv', 'tom', 'julian', 'erica']\n",
    "    })\n",
    "df"
   ],
   "metadata": {
    "collapsed": false,
    "ExecuteTime": {
     "end_time": "2023-10-15T08:06:29.468685Z",
     "start_time": "2023-10-15T08:06:29.458828Z"
    }
   },
   "id": "d3207889c918f67e"
  },
  {
   "cell_type": "code",
   "execution_count": 19,
   "outputs": [
    {
     "data": {
      "text/plain": "   score  student\n0      4      rob\n1      2     maya\n2      3  parthiv\n3      1      tom\n4      2   julian\n5      4    erica",
      "text/html": "<div>\n<style scoped>\n    .dataframe tbody tr th:only-of-type {\n        vertical-align: middle;\n    }\n\n    .dataframe tbody tr th {\n        vertical-align: top;\n    }\n\n    .dataframe thead th {\n        text-align: right;\n    }\n</style>\n<table border=\"1\" class=\"dataframe\">\n  <thead>\n    <tr style=\"text-align: right;\">\n      <th></th>\n      <th>score</th>\n      <th>student</th>\n    </tr>\n  </thead>\n  <tbody>\n    <tr>\n      <th>0</th>\n      <td>4</td>\n      <td>rob</td>\n    </tr>\n    <tr>\n      <th>1</th>\n      <td>2</td>\n      <td>maya</td>\n    </tr>\n    <tr>\n      <th>2</th>\n      <td>3</td>\n      <td>parthiv</td>\n    </tr>\n    <tr>\n      <th>3</th>\n      <td>1</td>\n      <td>tom</td>\n    </tr>\n    <tr>\n      <th>4</th>\n      <td>2</td>\n      <td>julian</td>\n    </tr>\n    <tr>\n      <th>5</th>\n      <td>4</td>\n      <td>erica</td>\n    </tr>\n  </tbody>\n</table>\n</div>"
     },
     "execution_count": 19,
     "metadata": {},
     "output_type": "execute_result"
    }
   ],
   "source": [
    "new_df = df.replace(['poor', 'average', 'good', 'exceptional'], [1,2,3,4])\n",
    "new_df"
   ],
   "metadata": {
    "collapsed": false,
    "ExecuteTime": {
     "end_time": "2023-10-15T08:08:30.668649Z",
     "start_time": "2023-10-15T08:08:30.665689Z"
    }
   },
   "id": "46d332fdb77ef42"
  }
 ],
 "metadata": {
  "kernelspec": {
   "display_name": "Python 3",
   "language": "python",
   "name": "python3"
  },
  "language_info": {
   "codemirror_mode": {
    "name": "ipython",
    "version": 2
   },
   "file_extension": ".py",
   "mimetype": "text/x-python",
   "name": "python",
   "nbconvert_exporter": "python",
   "pygments_lexer": "ipython2",
   "version": "2.7.6"
  }
 },
 "nbformat": 4,
 "nbformat_minor": 5
}
