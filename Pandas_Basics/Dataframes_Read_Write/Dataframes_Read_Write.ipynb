{
 "cells": [
  {
   "cell_type": "markdown",
   "source": [
    "# **Read to CSV**"
   ],
   "metadata": {
    "collapsed": false
   },
   "id": "5aee716dd64d947f"
  },
  {
   "cell_type": "code",
   "execution_count": 2,
   "id": "initial_id",
   "metadata": {
    "collapsed": true,
    "ExecuteTime": {
     "end_time": "2023-10-14T06:50:27.853629Z",
     "start_time": "2023-10-14T06:50:27.825791Z"
    }
   },
   "outputs": [
    {
     "data": {
      "text/plain": "  stock data     Unnamed: 1 Unnamed: 2 Unnamed: 3     Unnamed: 4\n0    tickers            eps    revenue      price         people\n1      GOOGL          27.82         87        845     larry page\n2        WMT           4.61        484         65           n.a.\n3       MSFT             -1         85         64     bill gates\n4       RIL   not available         50       1023  mukesh ambani\n5       TATA            5.6         -1       n.a.     ratan tata",
      "text/html": "<div>\n<style scoped>\n    .dataframe tbody tr th:only-of-type {\n        vertical-align: middle;\n    }\n\n    .dataframe tbody tr th {\n        vertical-align: top;\n    }\n\n    .dataframe thead th {\n        text-align: right;\n    }\n</style>\n<table border=\"1\" class=\"dataframe\">\n  <thead>\n    <tr style=\"text-align: right;\">\n      <th></th>\n      <th>stock data</th>\n      <th>Unnamed: 1</th>\n      <th>Unnamed: 2</th>\n      <th>Unnamed: 3</th>\n      <th>Unnamed: 4</th>\n    </tr>\n  </thead>\n  <tbody>\n    <tr>\n      <th>0</th>\n      <td>tickers</td>\n      <td>eps</td>\n      <td>revenue</td>\n      <td>price</td>\n      <td>people</td>\n    </tr>\n    <tr>\n      <th>1</th>\n      <td>GOOGL</td>\n      <td>27.82</td>\n      <td>87</td>\n      <td>845</td>\n      <td>larry page</td>\n    </tr>\n    <tr>\n      <th>2</th>\n      <td>WMT</td>\n      <td>4.61</td>\n      <td>484</td>\n      <td>65</td>\n      <td>n.a.</td>\n    </tr>\n    <tr>\n      <th>3</th>\n      <td>MSFT</td>\n      <td>-1</td>\n      <td>85</td>\n      <td>64</td>\n      <td>bill gates</td>\n    </tr>\n    <tr>\n      <th>4</th>\n      <td>RIL</td>\n      <td>not available</td>\n      <td>50</td>\n      <td>1023</td>\n      <td>mukesh ambani</td>\n    </tr>\n    <tr>\n      <th>5</th>\n      <td>TATA</td>\n      <td>5.6</td>\n      <td>-1</td>\n      <td>n.a.</td>\n      <td>ratan tata</td>\n    </tr>\n  </tbody>\n</table>\n</div>"
     },
     "execution_count": 2,
     "metadata": {},
     "output_type": "execute_result"
    }
   ],
   "source": [
    "import pandas as pd\n",
    "df = pd.read_csv('stock_data.csv')\n",
    "df"
   ]
  },
  {
   "cell_type": "markdown",
   "source": [
    "# **Added a new row in csv file**\n",
    "**-> Below are the two methods to remove the extra added row**"
   ],
   "metadata": {
    "collapsed": false
   },
   "id": "ba7e9d1211ffaa8a"
  },
  {
   "cell_type": "code",
   "execution_count": 3,
   "outputs": [
    {
     "data": {
      "text/plain": "  tickers            eps  revenue price         people\n0   GOOGL          27.82       87   845     larry page\n1     WMT           4.61      484    65           n.a.\n2    MSFT             -1       85    64     bill gates\n3    RIL   not available       50  1023  mukesh ambani\n4    TATA            5.6       -1  n.a.     ratan tata",
      "text/html": "<div>\n<style scoped>\n    .dataframe tbody tr th:only-of-type {\n        vertical-align: middle;\n    }\n\n    .dataframe tbody tr th {\n        vertical-align: top;\n    }\n\n    .dataframe thead th {\n        text-align: right;\n    }\n</style>\n<table border=\"1\" class=\"dataframe\">\n  <thead>\n    <tr style=\"text-align: right;\">\n      <th></th>\n      <th>tickers</th>\n      <th>eps</th>\n      <th>revenue</th>\n      <th>price</th>\n      <th>people</th>\n    </tr>\n  </thead>\n  <tbody>\n    <tr>\n      <th>0</th>\n      <td>GOOGL</td>\n      <td>27.82</td>\n      <td>87</td>\n      <td>845</td>\n      <td>larry page</td>\n    </tr>\n    <tr>\n      <th>1</th>\n      <td>WMT</td>\n      <td>4.61</td>\n      <td>484</td>\n      <td>65</td>\n      <td>n.a.</td>\n    </tr>\n    <tr>\n      <th>2</th>\n      <td>MSFT</td>\n      <td>-1</td>\n      <td>85</td>\n      <td>64</td>\n      <td>bill gates</td>\n    </tr>\n    <tr>\n      <th>3</th>\n      <td>RIL</td>\n      <td>not available</td>\n      <td>50</td>\n      <td>1023</td>\n      <td>mukesh ambani</td>\n    </tr>\n    <tr>\n      <th>4</th>\n      <td>TATA</td>\n      <td>5.6</td>\n      <td>-1</td>\n      <td>n.a.</td>\n      <td>ratan tata</td>\n    </tr>\n  </tbody>\n</table>\n</div>"
     },
     "execution_count": 3,
     "metadata": {},
     "output_type": "execute_result"
    }
   ],
   "source": [
    "df = pd.read_csv('stock_data.csv', skiprows= 1)\n",
    "df"
   ],
   "metadata": {
    "collapsed": false,
    "ExecuteTime": {
     "end_time": "2023-10-14T06:50:47.135416Z",
     "start_time": "2023-10-14T06:50:47.124893Z"
    }
   },
   "id": "20ad0020e977625f"
  },
  {
   "cell_type": "code",
   "execution_count": 4,
   "outputs": [
    {
     "data": {
      "text/plain": "  tickers            eps  revenue price         people\n0   GOOGL          27.82       87   845     larry page\n1     WMT           4.61      484    65           n.a.\n2    MSFT             -1       85    64     bill gates\n3    RIL   not available       50  1023  mukesh ambani\n4    TATA            5.6       -1  n.a.     ratan tata",
      "text/html": "<div>\n<style scoped>\n    .dataframe tbody tr th:only-of-type {\n        vertical-align: middle;\n    }\n\n    .dataframe tbody tr th {\n        vertical-align: top;\n    }\n\n    .dataframe thead th {\n        text-align: right;\n    }\n</style>\n<table border=\"1\" class=\"dataframe\">\n  <thead>\n    <tr style=\"text-align: right;\">\n      <th></th>\n      <th>tickers</th>\n      <th>eps</th>\n      <th>revenue</th>\n      <th>price</th>\n      <th>people</th>\n    </tr>\n  </thead>\n  <tbody>\n    <tr>\n      <th>0</th>\n      <td>GOOGL</td>\n      <td>27.82</td>\n      <td>87</td>\n      <td>845</td>\n      <td>larry page</td>\n    </tr>\n    <tr>\n      <th>1</th>\n      <td>WMT</td>\n      <td>4.61</td>\n      <td>484</td>\n      <td>65</td>\n      <td>n.a.</td>\n    </tr>\n    <tr>\n      <th>2</th>\n      <td>MSFT</td>\n      <td>-1</td>\n      <td>85</td>\n      <td>64</td>\n      <td>bill gates</td>\n    </tr>\n    <tr>\n      <th>3</th>\n      <td>RIL</td>\n      <td>not available</td>\n      <td>50</td>\n      <td>1023</td>\n      <td>mukesh ambani</td>\n    </tr>\n    <tr>\n      <th>4</th>\n      <td>TATA</td>\n      <td>5.6</td>\n      <td>-1</td>\n      <td>n.a.</td>\n      <td>ratan tata</td>\n    </tr>\n  </tbody>\n</table>\n</div>"
     },
     "execution_count": 4,
     "metadata": {},
     "output_type": "execute_result"
    }
   ],
   "source": [
    "df = pd.read_csv('stock_data.csv', header= 1)\n",
    "df"
   ],
   "metadata": {
    "collapsed": false,
    "ExecuteTime": {
     "end_time": "2023-10-14T06:51:11.147330Z",
     "start_time": "2023-10-14T06:51:11.131313Z"
    }
   },
   "id": "4e6e51f1740cfe88"
  },
  {
   "cell_type": "markdown",
   "source": [
    "# **No Header in CSV**\n",
    "**-> It assigns value to the header**"
   ],
   "metadata": {
    "collapsed": false
   },
   "id": "530296845e6b9"
  },
  {
   "cell_type": "code",
   "execution_count": 5,
   "outputs": [
    {
     "data": {
      "text/plain": "       0              1    2     3              4\n0  GOOGL          27.82   87   845     larry page\n1    WMT           4.61  484    65           n.a.\n2   MSFT             -1   85    64     bill gates\n3   RIL   not available   50  1023  mukesh ambani\n4   TATA            5.6   -1  n.a.     ratan tata",
      "text/html": "<div>\n<style scoped>\n    .dataframe tbody tr th:only-of-type {\n        vertical-align: middle;\n    }\n\n    .dataframe tbody tr th {\n        vertical-align: top;\n    }\n\n    .dataframe thead th {\n        text-align: right;\n    }\n</style>\n<table border=\"1\" class=\"dataframe\">\n  <thead>\n    <tr style=\"text-align: right;\">\n      <th></th>\n      <th>0</th>\n      <th>1</th>\n      <th>2</th>\n      <th>3</th>\n      <th>4</th>\n    </tr>\n  </thead>\n  <tbody>\n    <tr>\n      <th>0</th>\n      <td>GOOGL</td>\n      <td>27.82</td>\n      <td>87</td>\n      <td>845</td>\n      <td>larry page</td>\n    </tr>\n    <tr>\n      <th>1</th>\n      <td>WMT</td>\n      <td>4.61</td>\n      <td>484</td>\n      <td>65</td>\n      <td>n.a.</td>\n    </tr>\n    <tr>\n      <th>2</th>\n      <td>MSFT</td>\n      <td>-1</td>\n      <td>85</td>\n      <td>64</td>\n      <td>bill gates</td>\n    </tr>\n    <tr>\n      <th>3</th>\n      <td>RIL</td>\n      <td>not available</td>\n      <td>50</td>\n      <td>1023</td>\n      <td>mukesh ambani</td>\n    </tr>\n    <tr>\n      <th>4</th>\n      <td>TATA</td>\n      <td>5.6</td>\n      <td>-1</td>\n      <td>n.a.</td>\n      <td>ratan tata</td>\n    </tr>\n  </tbody>\n</table>\n</div>"
     },
     "execution_count": 5,
     "metadata": {},
     "output_type": "execute_result"
    }
   ],
   "source": [
    "df = pd.read_csv('stock_data.csv', header= None)\n",
    "df"
   ],
   "metadata": {
    "collapsed": false,
    "ExecuteTime": {
     "end_time": "2023-10-14T06:55:23.014403Z",
     "start_time": "2023-10-14T06:55:22.994569Z"
    }
   },
   "id": "6bcd1b32f9f9d60d"
  },
  {
   "cell_type": "markdown",
   "source": [
    "**-> To give naming use names**"
   ],
   "metadata": {
    "collapsed": false
   },
   "id": "a98e8d51d009b02a"
  },
  {
   "cell_type": "code",
   "execution_count": 6,
   "outputs": [
    {
     "data": {
      "text/plain": "  tickers            eps  revenue price         people\n0   GOOGL          27.82       87   845     larry page\n1     WMT           4.61      484    65           n.a.\n2    MSFT             -1       85    64     bill gates\n3    RIL   not available       50  1023  mukesh ambani\n4    TATA            5.6       -1  n.a.     ratan tata",
      "text/html": "<div>\n<style scoped>\n    .dataframe tbody tr th:only-of-type {\n        vertical-align: middle;\n    }\n\n    .dataframe tbody tr th {\n        vertical-align: top;\n    }\n\n    .dataframe thead th {\n        text-align: right;\n    }\n</style>\n<table border=\"1\" class=\"dataframe\">\n  <thead>\n    <tr style=\"text-align: right;\">\n      <th></th>\n      <th>tickers</th>\n      <th>eps</th>\n      <th>revenue</th>\n      <th>price</th>\n      <th>people</th>\n    </tr>\n  </thead>\n  <tbody>\n    <tr>\n      <th>0</th>\n      <td>GOOGL</td>\n      <td>27.82</td>\n      <td>87</td>\n      <td>845</td>\n      <td>larry page</td>\n    </tr>\n    <tr>\n      <th>1</th>\n      <td>WMT</td>\n      <td>4.61</td>\n      <td>484</td>\n      <td>65</td>\n      <td>n.a.</td>\n    </tr>\n    <tr>\n      <th>2</th>\n      <td>MSFT</td>\n      <td>-1</td>\n      <td>85</td>\n      <td>64</td>\n      <td>bill gates</td>\n    </tr>\n    <tr>\n      <th>3</th>\n      <td>RIL</td>\n      <td>not available</td>\n      <td>50</td>\n      <td>1023</td>\n      <td>mukesh ambani</td>\n    </tr>\n    <tr>\n      <th>4</th>\n      <td>TATA</td>\n      <td>5.6</td>\n      <td>-1</td>\n      <td>n.a.</td>\n      <td>ratan tata</td>\n    </tr>\n  </tbody>\n</table>\n</div>"
     },
     "execution_count": 6,
     "metadata": {},
     "output_type": "execute_result"
    }
   ],
   "source": [
    "df = pd.read_csv('stock_data.csv', header= None, names=['tickers','eps','revenue','price','people'])\n",
    "df"
   ],
   "metadata": {
    "collapsed": false,
    "ExecuteTime": {
     "end_time": "2023-10-14T06:57:35.081666Z",
     "start_time": "2023-10-14T06:57:35.056431Z"
    }
   },
   "id": "defd87a206d192e0"
  },
  {
   "cell_type": "code",
   "execution_count": 7,
   "outputs": [
    {
     "data": {
      "text/plain": "  tickers            eps  revenue price         people\n0   GOOGL          27.82       87   845     larry page\n1     WMT           4.61      484    65           n.a.\n2    MSFT             -1       85    64     bill gates\n3    RIL   not available       50  1023  mukesh ambani\n4    TATA            5.6       -1  n.a.     ratan tata",
      "text/html": "<div>\n<style scoped>\n    .dataframe tbody tr th:only-of-type {\n        vertical-align: middle;\n    }\n\n    .dataframe tbody tr th {\n        vertical-align: top;\n    }\n\n    .dataframe thead th {\n        text-align: right;\n    }\n</style>\n<table border=\"1\" class=\"dataframe\">\n  <thead>\n    <tr style=\"text-align: right;\">\n      <th></th>\n      <th>tickers</th>\n      <th>eps</th>\n      <th>revenue</th>\n      <th>price</th>\n      <th>people</th>\n    </tr>\n  </thead>\n  <tbody>\n    <tr>\n      <th>0</th>\n      <td>GOOGL</td>\n      <td>27.82</td>\n      <td>87</td>\n      <td>845</td>\n      <td>larry page</td>\n    </tr>\n    <tr>\n      <th>1</th>\n      <td>WMT</td>\n      <td>4.61</td>\n      <td>484</td>\n      <td>65</td>\n      <td>n.a.</td>\n    </tr>\n    <tr>\n      <th>2</th>\n      <td>MSFT</td>\n      <td>-1</td>\n      <td>85</td>\n      <td>64</td>\n      <td>bill gates</td>\n    </tr>\n    <tr>\n      <th>3</th>\n      <td>RIL</td>\n      <td>not available</td>\n      <td>50</td>\n      <td>1023</td>\n      <td>mukesh ambani</td>\n    </tr>\n    <tr>\n      <th>4</th>\n      <td>TATA</td>\n      <td>5.6</td>\n      <td>-1</td>\n      <td>n.a.</td>\n      <td>ratan tata</td>\n    </tr>\n  </tbody>\n</table>\n</div>"
     },
     "execution_count": 7,
     "metadata": {},
     "output_type": "execute_result"
    }
   ],
   "source": [
    "df"
   ],
   "metadata": {
    "collapsed": false,
    "ExecuteTime": {
     "end_time": "2023-10-14T06:58:13.448910Z",
     "start_time": "2023-10-14T06:58:13.439966Z"
    }
   },
   "id": "27bda1af86e2de6c"
  },
  {
   "cell_type": "markdown",
   "source": [
    "**-> Replacing null values with NaN**"
   ],
   "metadata": {
    "collapsed": false
   },
   "id": "336455c025dea175"
  },
  {
   "cell_type": "code",
   "execution_count": 8,
   "outputs": [
    {
     "data": {
      "text/plain": "  tickers    eps  revenue   price         people\n0   GOOGL  27.82       87   845.0     larry page\n1     WMT   4.61      484    65.0            NaN\n2    MSFT  -1.00       85    64.0     bill gates\n3    RIL     NaN       50  1023.0  mukesh ambani\n4    TATA   5.60       -1     NaN     ratan tata",
      "text/html": "<div>\n<style scoped>\n    .dataframe tbody tr th:only-of-type {\n        vertical-align: middle;\n    }\n\n    .dataframe tbody tr th {\n        vertical-align: top;\n    }\n\n    .dataframe thead th {\n        text-align: right;\n    }\n</style>\n<table border=\"1\" class=\"dataframe\">\n  <thead>\n    <tr style=\"text-align: right;\">\n      <th></th>\n      <th>tickers</th>\n      <th>eps</th>\n      <th>revenue</th>\n      <th>price</th>\n      <th>people</th>\n    </tr>\n  </thead>\n  <tbody>\n    <tr>\n      <th>0</th>\n      <td>GOOGL</td>\n      <td>27.82</td>\n      <td>87</td>\n      <td>845.0</td>\n      <td>larry page</td>\n    </tr>\n    <tr>\n      <th>1</th>\n      <td>WMT</td>\n      <td>4.61</td>\n      <td>484</td>\n      <td>65.0</td>\n      <td>NaN</td>\n    </tr>\n    <tr>\n      <th>2</th>\n      <td>MSFT</td>\n      <td>-1.00</td>\n      <td>85</td>\n      <td>64.0</td>\n      <td>bill gates</td>\n    </tr>\n    <tr>\n      <th>3</th>\n      <td>RIL</td>\n      <td>NaN</td>\n      <td>50</td>\n      <td>1023.0</td>\n      <td>mukesh ambani</td>\n    </tr>\n    <tr>\n      <th>4</th>\n      <td>TATA</td>\n      <td>5.60</td>\n      <td>-1</td>\n      <td>NaN</td>\n      <td>ratan tata</td>\n    </tr>\n  </tbody>\n</table>\n</div>"
     },
     "execution_count": 8,
     "metadata": {},
     "output_type": "execute_result"
    }
   ],
   "source": [
    "df = pd.read_csv('stock_data.csv', na_values=[\"not available\",\"n.a.\"])\n",
    "df"
   ],
   "metadata": {
    "collapsed": false,
    "ExecuteTime": {
     "end_time": "2023-10-14T07:00:22.246586Z",
     "start_time": "2023-10-14T07:00:22.231475Z"
    }
   },
   "id": "be961e67ff57d925"
  },
  {
   "cell_type": "markdown",
   "source": [
    "**-> Replacing null values with NaN with Dictionary**\n",
    "\n",
    "We don't wanna change the eps value of -1 to NaN so"
   ],
   "metadata": {
    "collapsed": false
   },
   "id": "2efae5862d4c959e"
  },
  {
   "cell_type": "code",
   "execution_count": 11,
   "outputs": [
    {
     "data": {
      "text/plain": "  tickers    eps  revenue   price         people\n0   GOOGL  27.82     87.0   845.0     larry page\n1     WMT   4.61    484.0    65.0            NaN\n2    MSFT  -1.00     85.0    64.0     bill gates\n3    RIL     NaN     50.0  1023.0  mukesh ambani\n4    TATA   5.60      NaN     NaN     ratan tata",
      "text/html": "<div>\n<style scoped>\n    .dataframe tbody tr th:only-of-type {\n        vertical-align: middle;\n    }\n\n    .dataframe tbody tr th {\n        vertical-align: top;\n    }\n\n    .dataframe thead th {\n        text-align: right;\n    }\n</style>\n<table border=\"1\" class=\"dataframe\">\n  <thead>\n    <tr style=\"text-align: right;\">\n      <th></th>\n      <th>tickers</th>\n      <th>eps</th>\n      <th>revenue</th>\n      <th>price</th>\n      <th>people</th>\n    </tr>\n  </thead>\n  <tbody>\n    <tr>\n      <th>0</th>\n      <td>GOOGL</td>\n      <td>27.82</td>\n      <td>87.0</td>\n      <td>845.0</td>\n      <td>larry page</td>\n    </tr>\n    <tr>\n      <th>1</th>\n      <td>WMT</td>\n      <td>4.61</td>\n      <td>484.0</td>\n      <td>65.0</td>\n      <td>NaN</td>\n    </tr>\n    <tr>\n      <th>2</th>\n      <td>MSFT</td>\n      <td>-1.00</td>\n      <td>85.0</td>\n      <td>64.0</td>\n      <td>bill gates</td>\n    </tr>\n    <tr>\n      <th>3</th>\n      <td>RIL</td>\n      <td>NaN</td>\n      <td>50.0</td>\n      <td>1023.0</td>\n      <td>mukesh ambani</td>\n    </tr>\n    <tr>\n      <th>4</th>\n      <td>TATA</td>\n      <td>5.60</td>\n      <td>NaN</td>\n      <td>NaN</td>\n      <td>ratan tata</td>\n    </tr>\n  </tbody>\n</table>\n</div>"
     },
     "execution_count": 11,
     "metadata": {},
     "output_type": "execute_result"
    }
   ],
   "source": [
    "df = pd.read_csv('stock_data.csv', na_values={\n",
    "    'eps':[\"not available\",\"n.a.\"],\n",
    "    'revenue':[\"not available\",\"n.a.\",-1],\n",
    "    'price':[\"not available\",\"n.a.\"],\n",
    "    'people':[\"not available\",\"n.a.\"]\n",
    "}) \n",
    "df"
   ],
   "metadata": {
    "collapsed": false,
    "ExecuteTime": {
     "end_time": "2023-10-14T07:03:38.290032Z",
     "start_time": "2023-10-14T07:03:38.283703Z"
    }
   },
   "id": "8159c41da8427d85"
  },
  {
   "cell_type": "markdown",
   "source": [
    "# **Write to CSV**"
   ],
   "metadata": {
    "collapsed": false
   },
   "id": "edea598a6d2af951"
  },
  {
   "cell_type": "code",
   "execution_count": 12,
   "outputs": [],
   "source": [
    "df.to_csv('new.csv', index= False)"
   ],
   "metadata": {
    "collapsed": false,
    "ExecuteTime": {
     "end_time": "2023-10-14T07:06:47.287770Z",
     "start_time": "2023-10-14T07:06:47.272946Z"
    }
   },
   "id": "3c55f2067267dce8"
  },
  {
   "cell_type": "code",
   "execution_count": 13,
   "outputs": [],
   "source": [
    "df.to_csv('new.csv', header= False)"
   ],
   "metadata": {
    "collapsed": false,
    "ExecuteTime": {
     "end_time": "2023-10-14T07:10:46.697199Z",
     "start_time": "2023-10-14T07:10:46.689013Z"
    }
   },
   "id": "524cdc4ca4312202"
  },
  {
   "cell_type": "markdown",
   "source": [
    "# **EXCEL**"
   ],
   "metadata": {
    "collapsed": false
   },
   "id": "83e3c0ad019c3fc7"
  },
  {
   "cell_type": "code",
   "execution_count": 15,
   "outputs": [
    {
     "data": {
      "text/plain": "  tickers            eps  revenue price         people\n0   GOOGL          27.82       87   845     larry page\n1     WMT           4.61      484    65           n.a.\n2    MSFT             -1       85    64     bill gates\n3    RIL   not available       50  1023  mukesh ambani\n4    TATA            5.6       -1  n.a.     ratan tata",
      "text/html": "<div>\n<style scoped>\n    .dataframe tbody tr th:only-of-type {\n        vertical-align: middle;\n    }\n\n    .dataframe tbody tr th {\n        vertical-align: top;\n    }\n\n    .dataframe thead th {\n        text-align: right;\n    }\n</style>\n<table border=\"1\" class=\"dataframe\">\n  <thead>\n    <tr style=\"text-align: right;\">\n      <th></th>\n      <th>tickers</th>\n      <th>eps</th>\n      <th>revenue</th>\n      <th>price</th>\n      <th>people</th>\n    </tr>\n  </thead>\n  <tbody>\n    <tr>\n      <th>0</th>\n      <td>GOOGL</td>\n      <td>27.82</td>\n      <td>87</td>\n      <td>845</td>\n      <td>larry page</td>\n    </tr>\n    <tr>\n      <th>1</th>\n      <td>WMT</td>\n      <td>4.61</td>\n      <td>484</td>\n      <td>65</td>\n      <td>n.a.</td>\n    </tr>\n    <tr>\n      <th>2</th>\n      <td>MSFT</td>\n      <td>-1</td>\n      <td>85</td>\n      <td>64</td>\n      <td>bill gates</td>\n    </tr>\n    <tr>\n      <th>3</th>\n      <td>RIL</td>\n      <td>not available</td>\n      <td>50</td>\n      <td>1023</td>\n      <td>mukesh ambani</td>\n    </tr>\n    <tr>\n      <th>4</th>\n      <td>TATA</td>\n      <td>5.6</td>\n      <td>-1</td>\n      <td>n.a.</td>\n      <td>ratan tata</td>\n    </tr>\n  </tbody>\n</table>\n</div>"
     },
     "execution_count": 15,
     "metadata": {},
     "output_type": "execute_result"
    }
   ],
   "source": [
    "df = pd.read_excel('stock_data.xlsx', 'Sheet1')\n",
    "df"
   ],
   "metadata": {
    "collapsed": false,
    "ExecuteTime": {
     "end_time": "2023-10-14T07:12:01.429026Z",
     "start_time": "2023-10-14T07:12:01.408345Z"
    }
   },
   "id": "29449c8820591b39"
  },
  {
   "cell_type": "markdown",
   "source": [
    "**-> To convert the people name we create a funciton and call it**"
   ],
   "metadata": {
    "collapsed": false
   },
   "id": "e8f2cbfeeca9c536"
  },
  {
   "cell_type": "code",
   "execution_count": 28,
   "outputs": [
    {
     "data": {
      "text/plain": "  tickers    eps  revenue price         people\n0   GOOGL  27.82       87   845     larry page\n1     WMT   4.61      484    65     sam walton\n2    MSFT  -1.00       85    64     bill gates\n3    RIL     NaN       50  1023  mukesh ambani\n4    TATA   5.60       -1  n.a.     ratan tata",
      "text/html": "<div>\n<style scoped>\n    .dataframe tbody tr th:only-of-type {\n        vertical-align: middle;\n    }\n\n    .dataframe tbody tr th {\n        vertical-align: top;\n    }\n\n    .dataframe thead th {\n        text-align: right;\n    }\n</style>\n<table border=\"1\" class=\"dataframe\">\n  <thead>\n    <tr style=\"text-align: right;\">\n      <th></th>\n      <th>tickers</th>\n      <th>eps</th>\n      <th>revenue</th>\n      <th>price</th>\n      <th>people</th>\n    </tr>\n  </thead>\n  <tbody>\n    <tr>\n      <th>0</th>\n      <td>GOOGL</td>\n      <td>27.82</td>\n      <td>87</td>\n      <td>845</td>\n      <td>larry page</td>\n    </tr>\n    <tr>\n      <th>1</th>\n      <td>WMT</td>\n      <td>4.61</td>\n      <td>484</td>\n      <td>65</td>\n      <td>sam walton</td>\n    </tr>\n    <tr>\n      <th>2</th>\n      <td>MSFT</td>\n      <td>-1.00</td>\n      <td>85</td>\n      <td>64</td>\n      <td>bill gates</td>\n    </tr>\n    <tr>\n      <th>3</th>\n      <td>RIL</td>\n      <td>NaN</td>\n      <td>50</td>\n      <td>1023</td>\n      <td>mukesh ambani</td>\n    </tr>\n    <tr>\n      <th>4</th>\n      <td>TATA</td>\n      <td>5.60</td>\n      <td>-1</td>\n      <td>n.a.</td>\n      <td>ratan tata</td>\n    </tr>\n  </tbody>\n</table>\n</div>"
     },
     "execution_count": 28,
     "metadata": {},
     "output_type": "execute_result"
    }
   ],
   "source": [
    "def convert_people_cell(cell):\n",
    "    if cell == \"n.a.\":\n",
    "        return \"sam walton\"\n",
    "    else:\n",
    "        return cell\n",
    "\n",
    "def convert_eps_cell(cell):\n",
    "    if cell == \"not available\":\n",
    "        return None\n",
    "    else:\n",
    "        return cell\n",
    "\n",
    "df = pd.read_excel('stock_data.xlsx', 'Sheet1', converters={\n",
    "    'people':convert_people_cell,\n",
    "    'eps':convert_eps_cell\n",
    "})\n",
    "df"
   ],
   "metadata": {
    "collapsed": false,
    "ExecuteTime": {
     "end_time": "2023-10-14T07:47:26.657794Z",
     "start_time": "2023-10-14T07:47:26.628374Z"
    }
   },
   "id": "4d2ef12f2c534a0"
  },
  {
   "cell_type": "code",
   "execution_count": 29,
   "outputs": [],
   "source": [
    "df.to_excel(\"new.xlsx\", sheet_name=\"stocks\", startrow = 1, startcol= 2, index= False)"
   ],
   "metadata": {
    "collapsed": false,
    "ExecuteTime": {
     "end_time": "2023-10-14T07:59:08.527407Z",
     "start_time": "2023-10-14T07:59:08.494628Z"
    }
   },
   "id": "5191f869e849d356"
  },
  {
   "cell_type": "code",
   "execution_count": 30,
   "outputs": [],
   "source": [
    "df_stocks = pd.DataFrame({\n",
    "    'tickers': ['GOOGL', 'WMT', 'MSFT'],\n",
    "    'price': [845, 65, 64 ],\n",
    "    'pe': [30.37, 14.26, 30.97],\n",
    "    'eps': [27.82, 4.61, 2.12]\n",
    "})\n",
    "\n",
    "df_weather =  pd.DataFrame({\n",
    "    'day': ['1/1/2017','1/2/2017','1/3/2017'],\n",
    "    'temperature': [32,35,28],\n",
    "    'event': ['Rain', 'Sunny', 'Snow']\n",
    "})"
   ],
   "metadata": {
    "collapsed": false,
    "ExecuteTime": {
     "end_time": "2023-10-14T08:00:27.508646Z",
     "start_time": "2023-10-14T08:00:27.502068Z"
    }
   },
   "id": "88d4583c4b91b7e2"
  },
  {
   "cell_type": "code",
   "execution_count": 33,
   "outputs": [],
   "source": [
    "with pd.ExcelWriter('stocks_weather.xlsx') as writer:\n",
    "    df_stocks.to_excel(writer, sheet_name= \"stocks\", index= False)\n",
    "    df_weather.to_excel(writer, sheet_name= \"weather\", index= False)"
   ],
   "metadata": {
    "collapsed": false,
    "ExecuteTime": {
     "end_time": "2023-10-14T08:03:15.495211Z",
     "start_time": "2023-10-14T08:03:15.469302Z"
    }
   },
   "id": "5348af0e03549600"
  },
  {
   "cell_type": "code",
   "execution_count": null,
   "outputs": [],
   "source": [],
   "metadata": {
    "collapsed": false
   },
   "id": "90f550f13910146c"
  }
 ],
 "metadata": {
  "kernelspec": {
   "display_name": "Python 3",
   "language": "python",
   "name": "python3"
  },
  "language_info": {
   "codemirror_mode": {
    "name": "ipython",
    "version": 2
   },
   "file_extension": ".py",
   "mimetype": "text/x-python",
   "name": "python",
   "nbconvert_exporter": "python",
   "pygments_lexer": "ipython2",
   "version": "2.7.6"
  }
 },
 "nbformat": 4,
 "nbformat_minor": 5
}
