{
 "cells": [
  {
   "cell_type": "code",
   "execution_count": 2,
   "id": "initial_id",
   "metadata": {
    "collapsed": true,
    "ExecuteTime": {
     "end_time": "2023-10-14T08:08:18.543187Z",
     "start_time": "2023-10-14T08:08:18.512762Z"
    }
   },
   "outputs": [
    {
     "data": {
      "text/plain": "         day  temperature  windspeed   event\n0   1/1/2017         32.0        6.0    Rain\n1   1/4/2017          NaN        9.0   Sunny\n2   1/5/2017         28.0        NaN    Snow\n3   1/6/2017          NaN        7.0     NaN\n4   1/7/2017         32.0        NaN    Rain\n5   1/8/2017          NaN        NaN   Sunny\n6   1/9/2017          NaN        NaN     NaN\n7  1/10/2017         34.0        8.0  Cloudy\n8  1/11/2017         40.0       12.0   Sunny",
      "text/html": "<div>\n<style scoped>\n    .dataframe tbody tr th:only-of-type {\n        vertical-align: middle;\n    }\n\n    .dataframe tbody tr th {\n        vertical-align: top;\n    }\n\n    .dataframe thead th {\n        text-align: right;\n    }\n</style>\n<table border=\"1\" class=\"dataframe\">\n  <thead>\n    <tr style=\"text-align: right;\">\n      <th></th>\n      <th>day</th>\n      <th>temperature</th>\n      <th>windspeed</th>\n      <th>event</th>\n    </tr>\n  </thead>\n  <tbody>\n    <tr>\n      <th>0</th>\n      <td>1/1/2017</td>\n      <td>32.0</td>\n      <td>6.0</td>\n      <td>Rain</td>\n    </tr>\n    <tr>\n      <th>1</th>\n      <td>1/4/2017</td>\n      <td>NaN</td>\n      <td>9.0</td>\n      <td>Sunny</td>\n    </tr>\n    <tr>\n      <th>2</th>\n      <td>1/5/2017</td>\n      <td>28.0</td>\n      <td>NaN</td>\n      <td>Snow</td>\n    </tr>\n    <tr>\n      <th>3</th>\n      <td>1/6/2017</td>\n      <td>NaN</td>\n      <td>7.0</td>\n      <td>NaN</td>\n    </tr>\n    <tr>\n      <th>4</th>\n      <td>1/7/2017</td>\n      <td>32.0</td>\n      <td>NaN</td>\n      <td>Rain</td>\n    </tr>\n    <tr>\n      <th>5</th>\n      <td>1/8/2017</td>\n      <td>NaN</td>\n      <td>NaN</td>\n      <td>Sunny</td>\n    </tr>\n    <tr>\n      <th>6</th>\n      <td>1/9/2017</td>\n      <td>NaN</td>\n      <td>NaN</td>\n      <td>NaN</td>\n    </tr>\n    <tr>\n      <th>7</th>\n      <td>1/10/2017</td>\n      <td>34.0</td>\n      <td>8.0</td>\n      <td>Cloudy</td>\n    </tr>\n    <tr>\n      <th>8</th>\n      <td>1/11/2017</td>\n      <td>40.0</td>\n      <td>12.0</td>\n      <td>Sunny</td>\n    </tr>\n  </tbody>\n</table>\n</div>"
     },
     "execution_count": 2,
     "metadata": {},
     "output_type": "execute_result"
    }
   ],
   "source": [
    "import pandas as pd\n",
    "df = pd.read_csv('weather_data.csv')\n",
    "df"
   ]
  },
  {
   "cell_type": "code",
   "execution_count": 5,
   "outputs": [
    {
     "data": {
      "text/plain": "str"
     },
     "execution_count": 5,
     "metadata": {},
     "output_type": "execute_result"
    }
   ],
   "source": [
    "type(df['day'][0])"
   ],
   "metadata": {
    "collapsed": false,
    "ExecuteTime": {
     "end_time": "2023-10-14T08:24:51.460723Z",
     "start_time": "2023-10-14T08:24:51.454024Z"
    }
   },
   "id": "6dc0c10eea7802dc"
  },
  {
   "cell_type": "code",
   "execution_count": 6,
   "outputs": [
    {
     "data": {
      "text/plain": "         day  temperature  windspeed   event\n0 2017-01-01         32.0        6.0    Rain\n1 2017-01-04          NaN        9.0   Sunny\n2 2017-01-05         28.0        NaN    Snow\n3 2017-01-06          NaN        7.0     NaN\n4 2017-01-07         32.0        NaN    Rain\n5 2017-01-08          NaN        NaN   Sunny\n6 2017-01-09          NaN        NaN     NaN\n7 2017-01-10         34.0        8.0  Cloudy\n8 2017-01-11         40.0       12.0   Sunny",
      "text/html": "<div>\n<style scoped>\n    .dataframe tbody tr th:only-of-type {\n        vertical-align: middle;\n    }\n\n    .dataframe tbody tr th {\n        vertical-align: top;\n    }\n\n    .dataframe thead th {\n        text-align: right;\n    }\n</style>\n<table border=\"1\" class=\"dataframe\">\n  <thead>\n    <tr style=\"text-align: right;\">\n      <th></th>\n      <th>day</th>\n      <th>temperature</th>\n      <th>windspeed</th>\n      <th>event</th>\n    </tr>\n  </thead>\n  <tbody>\n    <tr>\n      <th>0</th>\n      <td>2017-01-01</td>\n      <td>32.0</td>\n      <td>6.0</td>\n      <td>Rain</td>\n    </tr>\n    <tr>\n      <th>1</th>\n      <td>2017-01-04</td>\n      <td>NaN</td>\n      <td>9.0</td>\n      <td>Sunny</td>\n    </tr>\n    <tr>\n      <th>2</th>\n      <td>2017-01-05</td>\n      <td>28.0</td>\n      <td>NaN</td>\n      <td>Snow</td>\n    </tr>\n    <tr>\n      <th>3</th>\n      <td>2017-01-06</td>\n      <td>NaN</td>\n      <td>7.0</td>\n      <td>NaN</td>\n    </tr>\n    <tr>\n      <th>4</th>\n      <td>2017-01-07</td>\n      <td>32.0</td>\n      <td>NaN</td>\n      <td>Rain</td>\n    </tr>\n    <tr>\n      <th>5</th>\n      <td>2017-01-08</td>\n      <td>NaN</td>\n      <td>NaN</td>\n      <td>Sunny</td>\n    </tr>\n    <tr>\n      <th>6</th>\n      <td>2017-01-09</td>\n      <td>NaN</td>\n      <td>NaN</td>\n      <td>NaN</td>\n    </tr>\n    <tr>\n      <th>7</th>\n      <td>2017-01-10</td>\n      <td>34.0</td>\n      <td>8.0</td>\n      <td>Cloudy</td>\n    </tr>\n    <tr>\n      <th>8</th>\n      <td>2017-01-11</td>\n      <td>40.0</td>\n      <td>12.0</td>\n      <td>Sunny</td>\n    </tr>\n  </tbody>\n</table>\n</div>"
     },
     "execution_count": 6,
     "metadata": {},
     "output_type": "execute_result"
    }
   ],
   "source": [
    "df = pd.read_csv('weather_data.csv', parse_dates=[\"day\"])\n",
    "df"
   ],
   "metadata": {
    "collapsed": false,
    "ExecuteTime": {
     "end_time": "2023-10-14T08:25:40.142693Z",
     "start_time": "2023-10-14T08:25:40.112502Z"
    }
   },
   "id": "2f36bc45d40de7e8"
  },
  {
   "cell_type": "code",
   "execution_count": 7,
   "outputs": [
    {
     "data": {
      "text/plain": "pandas._libs.tslibs.timestamps.Timestamp"
     },
     "execution_count": 7,
     "metadata": {},
     "output_type": "execute_result"
    }
   ],
   "source": [
    "type(df['day'][0])"
   ],
   "metadata": {
    "collapsed": false,
    "ExecuteTime": {
     "end_time": "2023-10-14T08:25:45.162911Z",
     "start_time": "2023-10-14T08:25:45.157036Z"
    }
   },
   "id": "98bad24272cf44c2"
  },
  {
   "cell_type": "code",
   "execution_count": 8,
   "outputs": [
    {
     "data": {
      "text/plain": "            temperature  windspeed   event\nday                                       \n2017-01-01         32.0        6.0    Rain\n2017-01-04          NaN        9.0   Sunny\n2017-01-05         28.0        NaN    Snow\n2017-01-06          NaN        7.0     NaN\n2017-01-07         32.0        NaN    Rain\n2017-01-08          NaN        NaN   Sunny\n2017-01-09          NaN        NaN     NaN\n2017-01-10         34.0        8.0  Cloudy\n2017-01-11         40.0       12.0   Sunny",
      "text/html": "<div>\n<style scoped>\n    .dataframe tbody tr th:only-of-type {\n        vertical-align: middle;\n    }\n\n    .dataframe tbody tr th {\n        vertical-align: top;\n    }\n\n    .dataframe thead th {\n        text-align: right;\n    }\n</style>\n<table border=\"1\" class=\"dataframe\">\n  <thead>\n    <tr style=\"text-align: right;\">\n      <th></th>\n      <th>temperature</th>\n      <th>windspeed</th>\n      <th>event</th>\n    </tr>\n    <tr>\n      <th>day</th>\n      <th></th>\n      <th></th>\n      <th></th>\n    </tr>\n  </thead>\n  <tbody>\n    <tr>\n      <th>2017-01-01</th>\n      <td>32.0</td>\n      <td>6.0</td>\n      <td>Rain</td>\n    </tr>\n    <tr>\n      <th>2017-01-04</th>\n      <td>NaN</td>\n      <td>9.0</td>\n      <td>Sunny</td>\n    </tr>\n    <tr>\n      <th>2017-01-05</th>\n      <td>28.0</td>\n      <td>NaN</td>\n      <td>Snow</td>\n    </tr>\n    <tr>\n      <th>2017-01-06</th>\n      <td>NaN</td>\n      <td>7.0</td>\n      <td>NaN</td>\n    </tr>\n    <tr>\n      <th>2017-01-07</th>\n      <td>32.0</td>\n      <td>NaN</td>\n      <td>Rain</td>\n    </tr>\n    <tr>\n      <th>2017-01-08</th>\n      <td>NaN</td>\n      <td>NaN</td>\n      <td>Sunny</td>\n    </tr>\n    <tr>\n      <th>2017-01-09</th>\n      <td>NaN</td>\n      <td>NaN</td>\n      <td>NaN</td>\n    </tr>\n    <tr>\n      <th>2017-01-10</th>\n      <td>34.0</td>\n      <td>8.0</td>\n      <td>Cloudy</td>\n    </tr>\n    <tr>\n      <th>2017-01-11</th>\n      <td>40.0</td>\n      <td>12.0</td>\n      <td>Sunny</td>\n    </tr>\n  </tbody>\n</table>\n</div>"
     },
     "execution_count": 8,
     "metadata": {},
     "output_type": "execute_result"
    }
   ],
   "source": [
    "df.set_index('day', inplace= True)\n",
    "df"
   ],
   "metadata": {
    "collapsed": false,
    "ExecuteTime": {
     "end_time": "2023-10-14T08:26:35.002966Z",
     "start_time": "2023-10-14T08:26:34.997615Z"
    }
   },
   "id": "200f61000d34ea75"
  },
  {
   "cell_type": "markdown",
   "source": [
    "# **Fillna**"
   ],
   "metadata": {
    "collapsed": false
   },
   "id": "87182b861ecbc98c"
  },
  {
   "cell_type": "code",
   "execution_count": 9,
   "outputs": [
    {
     "data": {
      "text/plain": "            temperature  windspeed   event\nday                                       \n2017-01-01         32.0        6.0    Rain\n2017-01-04          0.0        9.0   Sunny\n2017-01-05         28.0        0.0    Snow\n2017-01-06          0.0        7.0       0\n2017-01-07         32.0        0.0    Rain\n2017-01-08          0.0        0.0   Sunny\n2017-01-09          0.0        0.0       0\n2017-01-10         34.0        8.0  Cloudy\n2017-01-11         40.0       12.0   Sunny",
      "text/html": "<div>\n<style scoped>\n    .dataframe tbody tr th:only-of-type {\n        vertical-align: middle;\n    }\n\n    .dataframe tbody tr th {\n        vertical-align: top;\n    }\n\n    .dataframe thead th {\n        text-align: right;\n    }\n</style>\n<table border=\"1\" class=\"dataframe\">\n  <thead>\n    <tr style=\"text-align: right;\">\n      <th></th>\n      <th>temperature</th>\n      <th>windspeed</th>\n      <th>event</th>\n    </tr>\n    <tr>\n      <th>day</th>\n      <th></th>\n      <th></th>\n      <th></th>\n    </tr>\n  </thead>\n  <tbody>\n    <tr>\n      <th>2017-01-01</th>\n      <td>32.0</td>\n      <td>6.0</td>\n      <td>Rain</td>\n    </tr>\n    <tr>\n      <th>2017-01-04</th>\n      <td>0.0</td>\n      <td>9.0</td>\n      <td>Sunny</td>\n    </tr>\n    <tr>\n      <th>2017-01-05</th>\n      <td>28.0</td>\n      <td>0.0</td>\n      <td>Snow</td>\n    </tr>\n    <tr>\n      <th>2017-01-06</th>\n      <td>0.0</td>\n      <td>7.0</td>\n      <td>0</td>\n    </tr>\n    <tr>\n      <th>2017-01-07</th>\n      <td>32.0</td>\n      <td>0.0</td>\n      <td>Rain</td>\n    </tr>\n    <tr>\n      <th>2017-01-08</th>\n      <td>0.0</td>\n      <td>0.0</td>\n      <td>Sunny</td>\n    </tr>\n    <tr>\n      <th>2017-01-09</th>\n      <td>0.0</td>\n      <td>0.0</td>\n      <td>0</td>\n    </tr>\n    <tr>\n      <th>2017-01-10</th>\n      <td>34.0</td>\n      <td>8.0</td>\n      <td>Cloudy</td>\n    </tr>\n    <tr>\n      <th>2017-01-11</th>\n      <td>40.0</td>\n      <td>12.0</td>\n      <td>Sunny</td>\n    </tr>\n  </tbody>\n</table>\n</div>"
     },
     "execution_count": 9,
     "metadata": {},
     "output_type": "execute_result"
    }
   ],
   "source": [
    "new_df = df.fillna(0)\n",
    "new_df"
   ],
   "metadata": {
    "collapsed": false,
    "ExecuteTime": {
     "end_time": "2023-10-14T08:27:30.654343Z",
     "start_time": "2023-10-14T08:27:30.650114Z"
    }
   },
   "id": "453a1423c673f0a6"
  },
  {
   "cell_type": "code",
   "execution_count": 11,
   "outputs": [
    {
     "data": {
      "text/plain": "            temperature  windspeed     event\nday                                         \n2017-01-01         32.0        6.0      Rain\n2017-01-04          0.0        9.0     Sunny\n2017-01-05         28.0        0.0      Snow\n2017-01-06          0.0        7.0  no event\n2017-01-07         32.0        0.0      Rain\n2017-01-08          0.0        0.0     Sunny\n2017-01-09          0.0        0.0  no event\n2017-01-10         34.0        8.0    Cloudy\n2017-01-11         40.0       12.0     Sunny",
      "text/html": "<div>\n<style scoped>\n    .dataframe tbody tr th:only-of-type {\n        vertical-align: middle;\n    }\n\n    .dataframe tbody tr th {\n        vertical-align: top;\n    }\n\n    .dataframe thead th {\n        text-align: right;\n    }\n</style>\n<table border=\"1\" class=\"dataframe\">\n  <thead>\n    <tr style=\"text-align: right;\">\n      <th></th>\n      <th>temperature</th>\n      <th>windspeed</th>\n      <th>event</th>\n    </tr>\n    <tr>\n      <th>day</th>\n      <th></th>\n      <th></th>\n      <th></th>\n    </tr>\n  </thead>\n  <tbody>\n    <tr>\n      <th>2017-01-01</th>\n      <td>32.0</td>\n      <td>6.0</td>\n      <td>Rain</td>\n    </tr>\n    <tr>\n      <th>2017-01-04</th>\n      <td>0.0</td>\n      <td>9.0</td>\n      <td>Sunny</td>\n    </tr>\n    <tr>\n      <th>2017-01-05</th>\n      <td>28.0</td>\n      <td>0.0</td>\n      <td>Snow</td>\n    </tr>\n    <tr>\n      <th>2017-01-06</th>\n      <td>0.0</td>\n      <td>7.0</td>\n      <td>no event</td>\n    </tr>\n    <tr>\n      <th>2017-01-07</th>\n      <td>32.0</td>\n      <td>0.0</td>\n      <td>Rain</td>\n    </tr>\n    <tr>\n      <th>2017-01-08</th>\n      <td>0.0</td>\n      <td>0.0</td>\n      <td>Sunny</td>\n    </tr>\n    <tr>\n      <th>2017-01-09</th>\n      <td>0.0</td>\n      <td>0.0</td>\n      <td>no event</td>\n    </tr>\n    <tr>\n      <th>2017-01-10</th>\n      <td>34.0</td>\n      <td>8.0</td>\n      <td>Cloudy</td>\n    </tr>\n    <tr>\n      <th>2017-01-11</th>\n      <td>40.0</td>\n      <td>12.0</td>\n      <td>Sunny</td>\n    </tr>\n  </tbody>\n</table>\n</div>"
     },
     "execution_count": 11,
     "metadata": {},
     "output_type": "execute_result"
    }
   ],
   "source": [
    "new_df = df.fillna({\n",
    "    'temperature': 0,\n",
    "    'windspeed': 0,\n",
    "    'event':'no event'\n",
    "})\n",
    "new_df"
   ],
   "metadata": {
    "collapsed": false,
    "ExecuteTime": {
     "end_time": "2023-10-14T08:29:15.352565Z",
     "start_time": "2023-10-14T08:29:15.337745Z"
    }
   },
   "id": "b0b7ec49736656af"
  },
  {
   "cell_type": "markdown",
   "source": [
    "**-> takes the first value to the Nan**"
   ],
   "metadata": {
    "collapsed": false
   },
   "id": "b40db0a5d6cc49b7"
  },
  {
   "cell_type": "code",
   "execution_count": 12,
   "outputs": [
    {
     "data": {
      "text/plain": "            temperature  windspeed   event\nday                                       \n2017-01-01         32.0        6.0    Rain\n2017-01-04         32.0        9.0   Sunny\n2017-01-05         28.0        9.0    Snow\n2017-01-06         28.0        7.0    Snow\n2017-01-07         32.0        7.0    Rain\n2017-01-08         32.0        7.0   Sunny\n2017-01-09         32.0        7.0   Sunny\n2017-01-10         34.0        8.0  Cloudy\n2017-01-11         40.0       12.0   Sunny",
      "text/html": "<div>\n<style scoped>\n    .dataframe tbody tr th:only-of-type {\n        vertical-align: middle;\n    }\n\n    .dataframe tbody tr th {\n        vertical-align: top;\n    }\n\n    .dataframe thead th {\n        text-align: right;\n    }\n</style>\n<table border=\"1\" class=\"dataframe\">\n  <thead>\n    <tr style=\"text-align: right;\">\n      <th></th>\n      <th>temperature</th>\n      <th>windspeed</th>\n      <th>event</th>\n    </tr>\n    <tr>\n      <th>day</th>\n      <th></th>\n      <th></th>\n      <th></th>\n    </tr>\n  </thead>\n  <tbody>\n    <tr>\n      <th>2017-01-01</th>\n      <td>32.0</td>\n      <td>6.0</td>\n      <td>Rain</td>\n    </tr>\n    <tr>\n      <th>2017-01-04</th>\n      <td>32.0</td>\n      <td>9.0</td>\n      <td>Sunny</td>\n    </tr>\n    <tr>\n      <th>2017-01-05</th>\n      <td>28.0</td>\n      <td>9.0</td>\n      <td>Snow</td>\n    </tr>\n    <tr>\n      <th>2017-01-06</th>\n      <td>28.0</td>\n      <td>7.0</td>\n      <td>Snow</td>\n    </tr>\n    <tr>\n      <th>2017-01-07</th>\n      <td>32.0</td>\n      <td>7.0</td>\n      <td>Rain</td>\n    </tr>\n    <tr>\n      <th>2017-01-08</th>\n      <td>32.0</td>\n      <td>7.0</td>\n      <td>Sunny</td>\n    </tr>\n    <tr>\n      <th>2017-01-09</th>\n      <td>32.0</td>\n      <td>7.0</td>\n      <td>Sunny</td>\n    </tr>\n    <tr>\n      <th>2017-01-10</th>\n      <td>34.0</td>\n      <td>8.0</td>\n      <td>Cloudy</td>\n    </tr>\n    <tr>\n      <th>2017-01-11</th>\n      <td>40.0</td>\n      <td>12.0</td>\n      <td>Sunny</td>\n    </tr>\n  </tbody>\n</table>\n</div>"
     },
     "execution_count": 12,
     "metadata": {},
     "output_type": "execute_result"
    }
   ],
   "source": [
    "new_df = df.fillna(method= \"ffill\")\n",
    "new_df"
   ],
   "metadata": {
    "collapsed": false,
    "ExecuteTime": {
     "end_time": "2023-10-14T08:48:26.609494Z",
     "start_time": "2023-10-14T08:48:26.604362Z"
    }
   },
   "id": "294addf0e8c5e636"
  },
  {
   "cell_type": "markdown",
   "source": [
    "**-> takes the last value to the Nan**"
   ],
   "metadata": {
    "collapsed": false
   },
   "id": "c94ee395c3bdefa6"
  },
  {
   "cell_type": "code",
   "execution_count": 13,
   "outputs": [
    {
     "data": {
      "text/plain": "            temperature  windspeed   event\nday                                       \n2017-01-01         32.0        6.0    Rain\n2017-01-04         28.0        9.0   Sunny\n2017-01-05         28.0        7.0    Snow\n2017-01-06         32.0        7.0    Rain\n2017-01-07         32.0        8.0    Rain\n2017-01-08         34.0        8.0   Sunny\n2017-01-09         34.0        8.0  Cloudy\n2017-01-10         34.0        8.0  Cloudy\n2017-01-11         40.0       12.0   Sunny",
      "text/html": "<div>\n<style scoped>\n    .dataframe tbody tr th:only-of-type {\n        vertical-align: middle;\n    }\n\n    .dataframe tbody tr th {\n        vertical-align: top;\n    }\n\n    .dataframe thead th {\n        text-align: right;\n    }\n</style>\n<table border=\"1\" class=\"dataframe\">\n  <thead>\n    <tr style=\"text-align: right;\">\n      <th></th>\n      <th>temperature</th>\n      <th>windspeed</th>\n      <th>event</th>\n    </tr>\n    <tr>\n      <th>day</th>\n      <th></th>\n      <th></th>\n      <th></th>\n    </tr>\n  </thead>\n  <tbody>\n    <tr>\n      <th>2017-01-01</th>\n      <td>32.0</td>\n      <td>6.0</td>\n      <td>Rain</td>\n    </tr>\n    <tr>\n      <th>2017-01-04</th>\n      <td>28.0</td>\n      <td>9.0</td>\n      <td>Sunny</td>\n    </tr>\n    <tr>\n      <th>2017-01-05</th>\n      <td>28.0</td>\n      <td>7.0</td>\n      <td>Snow</td>\n    </tr>\n    <tr>\n      <th>2017-01-06</th>\n      <td>32.0</td>\n      <td>7.0</td>\n      <td>Rain</td>\n    </tr>\n    <tr>\n      <th>2017-01-07</th>\n      <td>32.0</td>\n      <td>8.0</td>\n      <td>Rain</td>\n    </tr>\n    <tr>\n      <th>2017-01-08</th>\n      <td>34.0</td>\n      <td>8.0</td>\n      <td>Sunny</td>\n    </tr>\n    <tr>\n      <th>2017-01-09</th>\n      <td>34.0</td>\n      <td>8.0</td>\n      <td>Cloudy</td>\n    </tr>\n    <tr>\n      <th>2017-01-10</th>\n      <td>34.0</td>\n      <td>8.0</td>\n      <td>Cloudy</td>\n    </tr>\n    <tr>\n      <th>2017-01-11</th>\n      <td>40.0</td>\n      <td>12.0</td>\n      <td>Sunny</td>\n    </tr>\n  </tbody>\n</table>\n</div>"
     },
     "execution_count": 13,
     "metadata": {},
     "output_type": "execute_result"
    }
   ],
   "source": [
    "new_df = df.fillna(method= \"bfill\")\n",
    "new_df"
   ],
   "metadata": {
    "collapsed": false,
    "ExecuteTime": {
     "end_time": "2023-10-14T08:48:33.962820Z",
     "start_time": "2023-10-14T08:48:33.949164Z"
    }
   },
   "id": "ba4be01fa6016c6e"
  },
  {
   "cell_type": "markdown",
   "source": [
    "**-> Interpolate gives better values**"
   ],
   "metadata": {
    "collapsed": false
   },
   "id": "e4d67fb6d3d6244e"
  },
  {
   "cell_type": "code",
   "execution_count": 19,
   "outputs": [
    {
     "data": {
      "text/plain": "            temperature  windspeed   event\nday                                       \n2017-01-01    32.000000       6.00    Rain\n2017-01-04    30.000000       9.00   Sunny\n2017-01-05    28.000000       8.00    Snow\n2017-01-06    30.000000       7.00     NaN\n2017-01-07    32.000000       7.25    Rain\n2017-01-08    32.666667       7.50   Sunny\n2017-01-09    33.333333       7.75     NaN\n2017-01-10    34.000000       8.00  Cloudy\n2017-01-11    40.000000      12.00   Sunny",
      "text/html": "<div>\n<style scoped>\n    .dataframe tbody tr th:only-of-type {\n        vertical-align: middle;\n    }\n\n    .dataframe tbody tr th {\n        vertical-align: top;\n    }\n\n    .dataframe thead th {\n        text-align: right;\n    }\n</style>\n<table border=\"1\" class=\"dataframe\">\n  <thead>\n    <tr style=\"text-align: right;\">\n      <th></th>\n      <th>temperature</th>\n      <th>windspeed</th>\n      <th>event</th>\n    </tr>\n    <tr>\n      <th>day</th>\n      <th></th>\n      <th></th>\n      <th></th>\n    </tr>\n  </thead>\n  <tbody>\n    <tr>\n      <th>2017-01-01</th>\n      <td>32.000000</td>\n      <td>6.00</td>\n      <td>Rain</td>\n    </tr>\n    <tr>\n      <th>2017-01-04</th>\n      <td>30.000000</td>\n      <td>9.00</td>\n      <td>Sunny</td>\n    </tr>\n    <tr>\n      <th>2017-01-05</th>\n      <td>28.000000</td>\n      <td>8.00</td>\n      <td>Snow</td>\n    </tr>\n    <tr>\n      <th>2017-01-06</th>\n      <td>30.000000</td>\n      <td>7.00</td>\n      <td>NaN</td>\n    </tr>\n    <tr>\n      <th>2017-01-07</th>\n      <td>32.000000</td>\n      <td>7.25</td>\n      <td>Rain</td>\n    </tr>\n    <tr>\n      <th>2017-01-08</th>\n      <td>32.666667</td>\n      <td>7.50</td>\n      <td>Sunny</td>\n    </tr>\n    <tr>\n      <th>2017-01-09</th>\n      <td>33.333333</td>\n      <td>7.75</td>\n      <td>NaN</td>\n    </tr>\n    <tr>\n      <th>2017-01-10</th>\n      <td>34.000000</td>\n      <td>8.00</td>\n      <td>Cloudy</td>\n    </tr>\n    <tr>\n      <th>2017-01-11</th>\n      <td>40.000000</td>\n      <td>12.00</td>\n      <td>Sunny</td>\n    </tr>\n  </tbody>\n</table>\n</div>"
     },
     "execution_count": 19,
     "metadata": {},
     "output_type": "execute_result"
    }
   ],
   "source": [
    "new_df = df.interpolate()\n",
    "new_df"
   ],
   "metadata": {
    "collapsed": false,
    "ExecuteTime": {
     "end_time": "2023-10-14T08:56:33.337867Z",
     "start_time": "2023-10-14T08:56:33.324838Z"
    }
   },
   "id": "f8c07edae315d4cb"
  },
  {
   "cell_type": "markdown",
   "source": [
    "-> It has taken the mid value for 2017-01-04 but it is more near to the 2017-01-05 so we can use the time methods to get accurate answers"
   ],
   "metadata": {
    "collapsed": false
   },
   "id": "8bad88c32829db8f"
  },
  {
   "cell_type": "code",
   "execution_count": 20,
   "outputs": [
    {
     "data": {
      "text/plain": "            temperature  windspeed   event\nday                                       \n2017-01-01    32.000000       6.00    Rain\n2017-01-04    29.000000       9.00   Sunny\n2017-01-05    28.000000       8.00    Snow\n2017-01-06    30.000000       7.00     NaN\n2017-01-07    32.000000       7.25    Rain\n2017-01-08    32.666667       7.50   Sunny\n2017-01-09    33.333333       7.75     NaN\n2017-01-10    34.000000       8.00  Cloudy\n2017-01-11    40.000000      12.00   Sunny",
      "text/html": "<div>\n<style scoped>\n    .dataframe tbody tr th:only-of-type {\n        vertical-align: middle;\n    }\n\n    .dataframe tbody tr th {\n        vertical-align: top;\n    }\n\n    .dataframe thead th {\n        text-align: right;\n    }\n</style>\n<table border=\"1\" class=\"dataframe\">\n  <thead>\n    <tr style=\"text-align: right;\">\n      <th></th>\n      <th>temperature</th>\n      <th>windspeed</th>\n      <th>event</th>\n    </tr>\n    <tr>\n      <th>day</th>\n      <th></th>\n      <th></th>\n      <th></th>\n    </tr>\n  </thead>\n  <tbody>\n    <tr>\n      <th>2017-01-01</th>\n      <td>32.000000</td>\n      <td>6.00</td>\n      <td>Rain</td>\n    </tr>\n    <tr>\n      <th>2017-01-04</th>\n      <td>29.000000</td>\n      <td>9.00</td>\n      <td>Sunny</td>\n    </tr>\n    <tr>\n      <th>2017-01-05</th>\n      <td>28.000000</td>\n      <td>8.00</td>\n      <td>Snow</td>\n    </tr>\n    <tr>\n      <th>2017-01-06</th>\n      <td>30.000000</td>\n      <td>7.00</td>\n      <td>NaN</td>\n    </tr>\n    <tr>\n      <th>2017-01-07</th>\n      <td>32.000000</td>\n      <td>7.25</td>\n      <td>Rain</td>\n    </tr>\n    <tr>\n      <th>2017-01-08</th>\n      <td>32.666667</td>\n      <td>7.50</td>\n      <td>Sunny</td>\n    </tr>\n    <tr>\n      <th>2017-01-09</th>\n      <td>33.333333</td>\n      <td>7.75</td>\n      <td>NaN</td>\n    </tr>\n    <tr>\n      <th>2017-01-10</th>\n      <td>34.000000</td>\n      <td>8.00</td>\n      <td>Cloudy</td>\n    </tr>\n    <tr>\n      <th>2017-01-11</th>\n      <td>40.000000</td>\n      <td>12.00</td>\n      <td>Sunny</td>\n    </tr>\n  </tbody>\n</table>\n</div>"
     },
     "execution_count": 20,
     "metadata": {},
     "output_type": "execute_result"
    }
   ],
   "source": [
    "new_df = df.interpolate(method= 'time')\n",
    "new_df"
   ],
   "metadata": {
    "collapsed": false,
    "ExecuteTime": {
     "end_time": "2023-10-14T08:59:47.437626Z",
     "start_time": "2023-10-14T08:59:47.422543Z"
    }
   },
   "id": "49c873e3d644eb69"
  },
  {
   "cell_type": "code",
   "execution_count": 25,
   "outputs": [
    {
     "data": {
      "text/plain": "            temperature  windspeed   event\nday                                       \n2017-01-01         32.0        6.0    Rain\n2017-01-04          NaN        9.0   Sunny\n2017-01-05         28.0        NaN    Snow\n2017-01-06          NaN        7.0     NaN\n2017-01-07         32.0        NaN    Rain\n2017-01-08          NaN        NaN   Sunny\n2017-01-10         34.0        8.0  Cloudy\n2017-01-11         40.0       12.0   Sunny",
      "text/html": "<div>\n<style scoped>\n    .dataframe tbody tr th:only-of-type {\n        vertical-align: middle;\n    }\n\n    .dataframe tbody tr th {\n        vertical-align: top;\n    }\n\n    .dataframe thead th {\n        text-align: right;\n    }\n</style>\n<table border=\"1\" class=\"dataframe\">\n  <thead>\n    <tr style=\"text-align: right;\">\n      <th></th>\n      <th>temperature</th>\n      <th>windspeed</th>\n      <th>event</th>\n    </tr>\n    <tr>\n      <th>day</th>\n      <th></th>\n      <th></th>\n      <th></th>\n    </tr>\n  </thead>\n  <tbody>\n    <tr>\n      <th>2017-01-01</th>\n      <td>32.0</td>\n      <td>6.0</td>\n      <td>Rain</td>\n    </tr>\n    <tr>\n      <th>2017-01-04</th>\n      <td>NaN</td>\n      <td>9.0</td>\n      <td>Sunny</td>\n    </tr>\n    <tr>\n      <th>2017-01-05</th>\n      <td>28.0</td>\n      <td>NaN</td>\n      <td>Snow</td>\n    </tr>\n    <tr>\n      <th>2017-01-06</th>\n      <td>NaN</td>\n      <td>7.0</td>\n      <td>NaN</td>\n    </tr>\n    <tr>\n      <th>2017-01-07</th>\n      <td>32.0</td>\n      <td>NaN</td>\n      <td>Rain</td>\n    </tr>\n    <tr>\n      <th>2017-01-08</th>\n      <td>NaN</td>\n      <td>NaN</td>\n      <td>Sunny</td>\n    </tr>\n    <tr>\n      <th>2017-01-10</th>\n      <td>34.0</td>\n      <td>8.0</td>\n      <td>Cloudy</td>\n    </tr>\n    <tr>\n      <th>2017-01-11</th>\n      <td>40.0</td>\n      <td>12.0</td>\n      <td>Sunny</td>\n    </tr>\n  </tbody>\n</table>\n</div>"
     },
     "execution_count": 25,
     "metadata": {},
     "output_type": "execute_result"
    }
   ],
   "source": [
    "new_df = df.dropna(how= 'all')\n",
    "new_df"
   ],
   "metadata": {
    "collapsed": false,
    "ExecuteTime": {
     "end_time": "2023-10-14T09:04:53.982748Z",
     "start_time": "2023-10-14T09:04:53.966152Z"
    }
   },
   "id": "c2e25041f0f6fed4"
  },
  {
   "cell_type": "code",
   "execution_count": 26,
   "outputs": [
    {
     "data": {
      "text/plain": "            temperature  windspeed   event\nday                                       \n2017-01-01         32.0        6.0    Rain\n2017-01-04          NaN        9.0   Sunny\n2017-01-05         28.0        NaN    Snow\n2017-01-06          NaN        7.0     NaN\n2017-01-07         32.0        NaN    Rain\n2017-01-08          NaN        NaN   Sunny\n2017-01-10         34.0        8.0  Cloudy\n2017-01-11         40.0       12.0   Sunny",
      "text/html": "<div>\n<style scoped>\n    .dataframe tbody tr th:only-of-type {\n        vertical-align: middle;\n    }\n\n    .dataframe tbody tr th {\n        vertical-align: top;\n    }\n\n    .dataframe thead th {\n        text-align: right;\n    }\n</style>\n<table border=\"1\" class=\"dataframe\">\n  <thead>\n    <tr style=\"text-align: right;\">\n      <th></th>\n      <th>temperature</th>\n      <th>windspeed</th>\n      <th>event</th>\n    </tr>\n    <tr>\n      <th>day</th>\n      <th></th>\n      <th></th>\n      <th></th>\n    </tr>\n  </thead>\n  <tbody>\n    <tr>\n      <th>2017-01-01</th>\n      <td>32.0</td>\n      <td>6.0</td>\n      <td>Rain</td>\n    </tr>\n    <tr>\n      <th>2017-01-04</th>\n      <td>NaN</td>\n      <td>9.0</td>\n      <td>Sunny</td>\n    </tr>\n    <tr>\n      <th>2017-01-05</th>\n      <td>28.0</td>\n      <td>NaN</td>\n      <td>Snow</td>\n    </tr>\n    <tr>\n      <th>2017-01-06</th>\n      <td>NaN</td>\n      <td>7.0</td>\n      <td>NaN</td>\n    </tr>\n    <tr>\n      <th>2017-01-07</th>\n      <td>32.0</td>\n      <td>NaN</td>\n      <td>Rain</td>\n    </tr>\n    <tr>\n      <th>2017-01-08</th>\n      <td>NaN</td>\n      <td>NaN</td>\n      <td>Sunny</td>\n    </tr>\n    <tr>\n      <th>2017-01-10</th>\n      <td>34.0</td>\n      <td>8.0</td>\n      <td>Cloudy</td>\n    </tr>\n    <tr>\n      <th>2017-01-11</th>\n      <td>40.0</td>\n      <td>12.0</td>\n      <td>Sunny</td>\n    </tr>\n  </tbody>\n</table>\n</div>"
     },
     "execution_count": 26,
     "metadata": {},
     "output_type": "execute_result"
    }
   ],
   "source": [
    "new_df = df.dropna(thresh=1)\n",
    "new_df"
   ],
   "metadata": {
    "collapsed": false,
    "ExecuteTime": {
     "end_time": "2023-10-14T09:05:44.869250Z",
     "start_time": "2023-10-14T09:05:44.863623Z"
    }
   },
   "id": "7ed9d8a4e1e2b92a"
  },
  {
   "cell_type": "markdown",
   "source": [
    "-> Since we dont have a continuos date we reindex the data"
   ],
   "metadata": {
    "collapsed": false
   },
   "id": "cd465e295a63a074"
  },
  {
   "cell_type": "code",
   "execution_count": 27,
   "outputs": [
    {
     "data": {
      "text/plain": "            temperature  windspeed   event\n2017-01-01         32.0        6.0    Rain\n2017-01-02          NaN        NaN     NaN\n2017-01-03          NaN        NaN     NaN\n2017-01-04          NaN        9.0   Sunny\n2017-01-05         28.0        NaN    Snow\n2017-01-06          NaN        7.0     NaN\n2017-01-07         32.0        NaN    Rain\n2017-01-08          NaN        NaN   Sunny\n2017-01-09          NaN        NaN     NaN\n2017-01-10         34.0        8.0  Cloudy\n2017-01-11         40.0       12.0   Sunny",
      "text/html": "<div>\n<style scoped>\n    .dataframe tbody tr th:only-of-type {\n        vertical-align: middle;\n    }\n\n    .dataframe tbody tr th {\n        vertical-align: top;\n    }\n\n    .dataframe thead th {\n        text-align: right;\n    }\n</style>\n<table border=\"1\" class=\"dataframe\">\n  <thead>\n    <tr style=\"text-align: right;\">\n      <th></th>\n      <th>temperature</th>\n      <th>windspeed</th>\n      <th>event</th>\n    </tr>\n  </thead>\n  <tbody>\n    <tr>\n      <th>2017-01-01</th>\n      <td>32.0</td>\n      <td>6.0</td>\n      <td>Rain</td>\n    </tr>\n    <tr>\n      <th>2017-01-02</th>\n      <td>NaN</td>\n      <td>NaN</td>\n      <td>NaN</td>\n    </tr>\n    <tr>\n      <th>2017-01-03</th>\n      <td>NaN</td>\n      <td>NaN</td>\n      <td>NaN</td>\n    </tr>\n    <tr>\n      <th>2017-01-04</th>\n      <td>NaN</td>\n      <td>9.0</td>\n      <td>Sunny</td>\n    </tr>\n    <tr>\n      <th>2017-01-05</th>\n      <td>28.0</td>\n      <td>NaN</td>\n      <td>Snow</td>\n    </tr>\n    <tr>\n      <th>2017-01-06</th>\n      <td>NaN</td>\n      <td>7.0</td>\n      <td>NaN</td>\n    </tr>\n    <tr>\n      <th>2017-01-07</th>\n      <td>32.0</td>\n      <td>NaN</td>\n      <td>Rain</td>\n    </tr>\n    <tr>\n      <th>2017-01-08</th>\n      <td>NaN</td>\n      <td>NaN</td>\n      <td>Sunny</td>\n    </tr>\n    <tr>\n      <th>2017-01-09</th>\n      <td>NaN</td>\n      <td>NaN</td>\n      <td>NaN</td>\n    </tr>\n    <tr>\n      <th>2017-01-10</th>\n      <td>34.0</td>\n      <td>8.0</td>\n      <td>Cloudy</td>\n    </tr>\n    <tr>\n      <th>2017-01-11</th>\n      <td>40.0</td>\n      <td>12.0</td>\n      <td>Sunny</td>\n    </tr>\n  </tbody>\n</table>\n</div>"
     },
     "execution_count": 27,
     "metadata": {},
     "output_type": "execute_result"
    }
   ],
   "source": [
    "dt = pd.date_range(\"01-01-2017\",\"01-11-2017\")\n",
    "idx = pd.DatetimeIndex(dt)\n",
    "df = df.reindex(idx)\n",
    "df"
   ],
   "metadata": {
    "collapsed": false,
    "ExecuteTime": {
     "end_time": "2023-10-14T09:12:28.011980Z",
     "start_time": "2023-10-14T09:12:28.009790Z"
    }
   },
   "id": "cf15cbcd11142077"
  }
 ],
 "metadata": {
  "kernelspec": {
   "display_name": "Python 3",
   "language": "python",
   "name": "python3"
  },
  "language_info": {
   "codemirror_mode": {
    "name": "ipython",
    "version": 2
   },
   "file_extension": ".py",
   "mimetype": "text/x-python",
   "name": "python",
   "nbconvert_exporter": "python",
   "pygments_lexer": "ipython2",
   "version": "2.7.6"
  }
 },
 "nbformat": 4,
 "nbformat_minor": 5
}
